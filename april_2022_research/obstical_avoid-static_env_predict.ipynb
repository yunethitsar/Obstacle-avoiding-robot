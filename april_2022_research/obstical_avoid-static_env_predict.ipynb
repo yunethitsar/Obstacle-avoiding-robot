{
 "cells": [
  {
   "cell_type": "code",
   "execution_count": 1,
   "metadata": {},
   "outputs": [],
   "source": [
    "import numpy as np \n",
    "import cv2 \n",
    "import matplotlib.pyplot as plt\n",
    "import PIL.Image as Image\n",
    "import gym\n",
    "import random\n",
    "import math\n",
    "from gym import Env, spaces\n",
    "import time\n",
    "font = cv2.FONT_HERSHEY_COMPLEX_SMALL "
   ]
  },
  {
   "cell_type": "code",
   "execution_count": 15,
   "metadata": {},
   "outputs": [],
   "source": [
    "model_path = r\"/Users/nangyunethitsar/Desktop/FYP/static-7_4_2022.h5\"\n",
    "\n",
    "model_path = r\"/Users/tharhtetsan/Documents/GitHub/Reinforcement-Learning/custom_gym/20_3_2022.h5\""
   ]
  },
  {
   "cell_type": "code",
   "execution_count": 16,
   "metadata": {},
   "outputs": [],
   "source": [
    "#!pip install gym"
   ]
  },
  {
   "cell_type": "code",
   "execution_count": 17,
   "metadata": {},
   "outputs": [],
   "source": [
    "class Point(object):\n",
    "    def __init__(self, name, x_max, x_min, y_max, y_min):\n",
    "        self.x = 0\n",
    "        self.y = 0\n",
    "        self.x_min = x_min\n",
    "        self.x_max = x_max\n",
    "        self.y_min = y_min\n",
    "        self.y_max = y_max\n",
    "        self.name = name\n",
    "    \n",
    "    def set_position(self, x, y):\n",
    "        self.x = self.clamp(x, self.x_min, self.x_max - self.icon_w)\n",
    "        self.y = self.clamp(y, self.y_min, self.y_max - self.icon_h)\n",
    "    \n",
    "    def get_position(self):\n",
    "        return (self.x, self.y)\n",
    "    \n",
    "    def move(self, del_x, del_y):\n",
    "        self.x += del_x\n",
    "        self.y += del_y\n",
    "        \n",
    "        self.x = self.clamp(self.x, self.x_min, self.x_max - self.icon_w)\n",
    "        self.y = self.clamp(self.y, self.y_min, self.y_max - self.icon_h)\n",
    "\n",
    "    def clamp(self, n, minn, maxn):\n",
    "        return max(min(maxn, n), minn)"
   ]
  },
  {
   "cell_type": "code",
   "execution_count": 18,
   "metadata": {},
   "outputs": [],
   "source": [
    "class Robot(Point):\n",
    "    def __init__(self, name, x_max, x_min, y_max, y_min):\n",
    "        super(Robot, self).__init__(name, x_max, x_min, y_max, y_min)\n",
    "        self.icon = cv2.imread(\"robot.PNG\") / 255.0\n",
    "        self.icon_w = 20\n",
    "        self.icon_h = 20\n",
    "        self.icon = cv2.resize(self.icon, (self.icon_h, self.icon_w))"
   ]
  },
  {
   "cell_type": "code",
   "execution_count": 19,
   "metadata": {},
   "outputs": [],
   "source": [
    "class Obstical(Point):\n",
    "    def __init__(self, name, x_max, x_min, y_max, y_min):\n",
    "        super(Obstical, self).__init__(name, x_max, x_min, y_max, y_min)\n",
    "        self.icon = cv2.imread(\"building.png\") / 255.0\n",
    "        self.icon_w = 20\n",
    "        self.icon_h = 20\n",
    "        self.icon = cv2.resize(self.icon, (self.icon_h, self.icon_w))\n",
    "        "
   ]
  },
  {
   "cell_type": "code",
   "execution_count": 20,
   "metadata": {},
   "outputs": [],
   "source": [
    "class Flag(Point):\n",
    "    def __init__(self, name, x_max, x_min, y_max, y_min):\n",
    "        super(Flag, self).__init__(name, x_max, x_min, y_max, y_min)\n",
    "        self.icon = cv2.imread(\"flag.PNG\") / 255.0\n",
    "        self.icon_w = 32\n",
    "        self.icon_h = 32\n",
    "        self.icon = cv2.resize(self.icon, (self.icon_h, self.icon_w))"
   ]
  },
  {
   "cell_type": "code",
   "execution_count": 21,
   "metadata": {},
   "outputs": [],
   "source": [
    "class Robot_Env(Env):\n",
    "    def __init__(self):\n",
    "        super(Robot_Env, self).__init__()\n",
    "        \n",
    "        # Define a 2-D observation space\n",
    "        self.observation_shape = (400, 400, 3)\n",
    "        self.observation_space = spaces.Box(low = np.zeros(self.observation_shape), \n",
    "                                            high = np.ones(self.observation_shape),\n",
    "                                            dtype = np.float16)\n",
    "        \n",
    "        # Define an action space ranging from 0 to 4\n",
    "        self.action_space = spaces.Discrete(6,)\n",
    "        \n",
    "         # Create a canvas to render the environment images upon \n",
    "        self.canvas = np.ones(self.observation_shape) * 1\n",
    "        \n",
    "        self.elements = []\n",
    "        self.max_fuel = 300\n",
    "        \n",
    "        \n",
    "        self.y_min = int (self.observation_shape[0] * 0.1)\n",
    "        self.x_min = 0\n",
    "        self.y_max = int (self.observation_shape[0] * 0.9)\n",
    "        self.x_max = self.observation_shape[1]\n",
    "       \n",
    "    \n",
    "    \n",
    "    def step(self, action):\n",
    "        done = False\n",
    "        assert self.action_space.contains(action), \"Invalid Action\"\n",
    "        # Decrease the fuel counter \n",
    "        self.fuel_left -= 1 \n",
    "        # Reward for executing a step.\n",
    "       \n",
    "        \n",
    "        \n",
    "        if action == 0:\n",
    "            self.robot.move(0,5)\n",
    "        elif action == 1:\n",
    "            self.robot.move(0,-5)\n",
    "        elif action == 2:\n",
    "            self.robot.move(5,0)\n",
    "        elif action == 3:\n",
    "            self.robot.move(-5,0)\n",
    "        elif action == 4:\n",
    "            self.robot.move(0,0)\n",
    "            \n",
    "        \n",
    "        \n",
    "        \n",
    "        \n",
    "        reward = 0 \n",
    "        \n",
    "        for elem in self.elements:\n",
    "            ## check robot hit building\n",
    "            if isinstance(elem, Obstical):\n",
    "                if self.has_collided(self.robot, elem):\n",
    "                    # Conclude the episode and remove the chopper from the Env.\n",
    "                    done = True\n",
    "                    reward = -10\n",
    "                    #self.elements.remove(self.robot)\n",
    "\n",
    "            elif isinstance(elem, Flag):\n",
    "                if self.has_collided(self.robot, elem):\n",
    "                    done = True\n",
    "                    reward = 100\n",
    "                    self.elements.remove(self.robot)\n",
    "\n",
    "                else:\n",
    "                    robot_x, robot_y = self.robot.get_position()\n",
    "                    goal_x,goal_y = elem.get_position()\n",
    "                    dist =  math.sqrt((goal_x -robot_x)**2+(goal_y-robot_y)**2)\n",
    "                    reward = (1/dist) * 1000\n",
    "                        \n",
    "                        \n",
    "\n",
    "                \n",
    "    \n",
    "         # Increment the episodic return\n",
    "        self.ep_return += reward\n",
    "        \n",
    "        # Draw elements on the canvas\n",
    "        self.draw_elements_on_canvas()\n",
    "        \n",
    "        # If out of fuel, end the episode.\n",
    "        if self.fuel_left == 0:\n",
    "            done = True\n",
    "\n",
    "        return self.canvas, reward, done, []\n",
    "            \n",
    "    \n",
    "    \n",
    "        \n",
    "    def reset(self):\n",
    "        # Reset the fuel consumed\n",
    "        self.fuel_left = self.max_fuel\n",
    "\n",
    "        # Reset the reward\n",
    "        self.ep_return  = 0\n",
    "        \n",
    "        \n",
    "        # Number of building\n",
    "        self.obstical_count = 0\n",
    "        \n",
    "        \n",
    "        x = random.randrange(int(self.observation_shape[0] * 0.05), int(self.observation_shape[0] * 0.10))\n",
    "        y = random.randrange(int(self.observation_shape[1] * 0.15), int(self.observation_shape[1] * 0.20))\n",
    "        \n",
    "        self.robot = Robot(\"Robot\", self.x_max, self.x_min, self.y_max, self.y_min)\n",
    "        self.robot.set_position(x,y)\n",
    "        \n",
    "        \n",
    "         # Intialise the elements \n",
    "        self.elements = [self.robot]\n",
    "        \n",
    "        \n",
    "        # Reset the Canvas \n",
    "        self.canvas = np.ones(self.observation_shape) * 1\n",
    "\n",
    "        # Draw elements on the canvas\n",
    "        self.draw_elements_on_canvas()\n",
    "\n",
    "\n",
    "        # return the observation\n",
    "        return self.canvas \n",
    "    \n",
    "    \n",
    "    \n",
    "    def set_obsticals(self,points):\n",
    "        for obstical_x, obstical_y in points:\n",
    "            obstical_obj  =  Obstical(\"obstical_{}\".format(self.obstical_count), self.x_max, self.x_min, self.y_max, self.y_min) \n",
    "            obstical_obj.set_position(obstical_x, obstical_y)\n",
    "            self.elements.append(obstical_obj)\n",
    "            self.draw_elements_on_canvas()\n",
    "        return self.canvas\n",
    "\n",
    "    def set_goal(self,points):\n",
    "        for flag_x, flag_y in  points:\n",
    "            flag_obj = Flag(\"flag_{}\".format(self.obstical_count), self.x_max, self.x_min, self.y_max, self.y_min) \n",
    "            flag_obj.set_position(flag_x, flag_y)\n",
    "            self.elements.append(flag_obj)\n",
    "            self.draw_elements_on_canvas()\n",
    "        return self.canvas\n",
    "    \n",
    "    def draw_elements_on_canvas(self):\n",
    "        # Init the canvas \n",
    "        self.canvas = np.ones(self.observation_shape) * 1\n",
    "\n",
    "        # Draw the heliopter on canvas\n",
    "        for elem in self.elements:\n",
    "            elem_shape = elem.icon.shape\n",
    "            x,y = elem.x, elem.y\n",
    "            self.canvas[y : y + elem_shape[1], x:x + elem_shape[0]] = elem.icon\n",
    "\n",
    "        text = 'Fuel Left: {} | Rewards: {}'.format(self.fuel_left, self.ep_return)\n",
    "\n",
    "        # Put the info on canvas \n",
    "        self.canvas = cv2.putText(self.canvas, text, (10,20), font,  \n",
    "                   0.8, (0,0,0), 1, cv2.LINE_AA)\n",
    "    \n",
    "    \n",
    "    def get_action_meanings(self):\n",
    "        return {0: \"Right\", 1: \"Left\", 2: \"Down\", 3: \"Up\", 4: \"Do Nothing\"}\n",
    "    \n",
    "    def render(self, mode = \"human\"):\n",
    "        assert mode in [\"human\", \"rgb_array\"], \"Invalid mode, must be either \\\"human\\\" or \\\"rgb_array\\\"\"\n",
    "        if mode == \"human\":\n",
    "            cv2.imshow(\"Obstacle Avoidance Robot\", self.canvas)\n",
    "            cv2.waitKey(10)\n",
    "\n",
    "        elif mode == \"rgb_array\":\n",
    "            return self.canvas\n",
    "        \n",
    "    def close(self):\n",
    "        cv2.destroyAllWindows()\n",
    "        \n",
    "    def has_collided(self, elem1, elem2):\n",
    "        x_col = False\n",
    "        y_col = False\n",
    "\n",
    "        elem1_x, elem1_y = elem1.get_position()\n",
    "        elem2_x, elem2_y = elem2.get_position()\n",
    "\n",
    "        if 2 * abs(elem1_x - elem2_x) <= (elem1.icon_w + elem2.icon_w):\n",
    "            x_col =  True\n",
    "\n",
    "        if 2 * abs(elem1_y - elem2_y) <= (elem1.icon_h + elem2.icon_h):\n",
    "            y_col = True\n",
    "\n",
    "        if x_col and y_col:\n",
    "            return True\n",
    "\n",
    "        return False"
   ]
  },
  {
   "cell_type": "code",
   "execution_count": 22,
   "metadata": {},
   "outputs": [
    {
     "name": "stderr",
     "output_type": "stream",
     "text": [
      "/Users/tharhtetsan/opt/anaconda3/envs/ths/lib/python3.8/site-packages/gym/spaces/box.py:84: UserWarning: \u001b[33mWARN: Box bound precision lowered by casting to float16\u001b[0m\n",
      "  logger.warn(f\"Box bound precision lowered by casting to {self.dtype}\")\n"
     ]
    },
    {
     "data": {
      "text/plain": [
       "<matplotlib.image.AxesImage at 0x7fc4d152be20>"
      ]
     },
     "execution_count": 22,
     "metadata": {},
     "output_type": "execute_result"
    },
    {
     "data": {
      "image/png": "[encoded data removed]",
      "text/plain": [
       "<Figure size 720x720 with 1 Axes>"
      ]
     },
     "metadata": {
      "needs_background": "light"
     },
     "output_type": "display_data"
    }
   ],
   "source": [
    "full_obstacle_list = [ (200,100), (400,150),(400, 110), \n",
    "                 (430, 390), (201, 304), (135, 281), \n",
    "                 (286, 373), (175, 280), (250, 375), (139, 327), (369, 278), \n",
    "                 (295, 196), (210, 111),(110,110)]\n",
    "\n",
    "env = Robot_Env()\n",
    "obs = env.reset()\n",
    "obstical_env = env.set_obsticals(full_obstacle_list)\n",
    "plt.figure(figsize=(10, 10))\n",
    "plt.imshow(obstical_env)"
   ]
  },
  {
   "cell_type": "code",
   "execution_count": 23,
   "metadata": {},
   "outputs": [],
   "source": [
    "from IPython import display\n",
    "\n",
    "env = Robot_Env()\n",
    "obs = env.reset()\n",
    "\n",
    "goal_pos = [[380,380]]\n",
    "full_obstacle_list = [ (200,100), (400,150),(400, 110), \n",
    "                 (430, 390), (201, 304), (135, 281), \n",
    "                 (286, 373), (175, 280), (250, 375), (139, 327), (369, 278), \n",
    "                 (295, 196), (210, 111),(110,110)]\n",
    "\n",
    "\n",
    "env.set_obsticals(full_obstacle_list)\n",
    "env.set_goal(goal_pos)\n",
    "\n",
    "\n",
    "while True:\n",
    "    # Take a random action\n",
    "    action = env.action_space.sample()\n",
    "    obs, reward, done, info = env.step(action)\n",
    "    \n",
    "    # Render the game\n",
    "    env.render()\n",
    "    \n",
    "    if done == True:\n",
    "        break\n",
    "\n",
    "env.close()"
   ]
  },
  {
   "cell_type": "markdown",
   "metadata": {},
   "source": [
    "## Load tf model"
   ]
  },
  {
   "cell_type": "code",
   "execution_count": 24,
   "metadata": {},
   "outputs": [],
   "source": [
    "import tensorflow as tf"
   ]
  },
  {
   "cell_type": "code",
   "execution_count": 25,
   "metadata": {},
   "outputs": [],
   "source": [
    "def load_my_model(model_path):\n",
    "    model = tf.keras.models.load_model(model_path)\n",
    "    return model"
   ]
  },
  {
   "cell_type": "code",
   "execution_count": 26,
   "metadata": {},
   "outputs": [
    {
     "ename": "ValueError",
     "evalue": "No model config found in the file at <tensorflow.python.platform.gfile.GFile object at 0x7fc4d0af6880>.",
     "output_type": "error",
     "traceback": [
      "\u001b[0;31m---------------------------------------------------------------------------\u001b[0m",
      "\u001b[0;31mValueError\u001b[0m                                Traceback (most recent call last)",
      "Input \u001b[0;32mIn [26]\u001b[0m, in \u001b[0;36m<cell line: 1>\u001b[0;34m()\u001b[0m\n\u001b[0;32m----> 1\u001b[0m model \u001b[38;5;241m=\u001b[39m  \u001b[43mload_my_model\u001b[49m\u001b[43m(\u001b[49m\u001b[43mmodel_path\u001b[49m\u001b[43m)\u001b[49m\n\u001b[1;32m      2\u001b[0m model\u001b[38;5;241m.\u001b[39msummary()\n",
      "Input \u001b[0;32mIn [25]\u001b[0m, in \u001b[0;36mload_my_model\u001b[0;34m(model_path)\u001b[0m\n\u001b[1;32m      1\u001b[0m \u001b[38;5;28;01mdef\u001b[39;00m \u001b[38;5;21mload_my_model\u001b[39m(model_path):\n\u001b[0;32m----> 2\u001b[0m     model \u001b[38;5;241m=\u001b[39m \u001b[43mtf\u001b[49m\u001b[38;5;241;43m.\u001b[39;49m\u001b[43mkeras\u001b[49m\u001b[38;5;241;43m.\u001b[39;49m\u001b[43mmodels\u001b[49m\u001b[38;5;241;43m.\u001b[39;49m\u001b[43mload_model\u001b[49m\u001b[43m(\u001b[49m\u001b[43mmodel_path\u001b[49m\u001b[43m)\u001b[49m\n\u001b[1;32m      3\u001b[0m     \u001b[38;5;28;01mreturn\u001b[39;00m model\n",
      "File \u001b[0;32m~/opt/anaconda3/envs/ths/lib/python3.8/site-packages/keras/utils/traceback_utils.py:67\u001b[0m, in \u001b[0;36mfilter_traceback.<locals>.error_handler\u001b[0;34m(*args, **kwargs)\u001b[0m\n\u001b[1;32m     65\u001b[0m \u001b[38;5;28;01mexcept\u001b[39;00m \u001b[38;5;167;01mException\u001b[39;00m \u001b[38;5;28;01mas\u001b[39;00m e:  \u001b[38;5;66;03m# pylint: disable=broad-except\u001b[39;00m\n\u001b[1;32m     66\u001b[0m   filtered_tb \u001b[38;5;241m=\u001b[39m _process_traceback_frames(e\u001b[38;5;241m.\u001b[39m__traceback__)\n\u001b[0;32m---> 67\u001b[0m   \u001b[38;5;28;01mraise\u001b[39;00m e\u001b[38;5;241m.\u001b[39mwith_traceback(filtered_tb) \u001b[38;5;28;01mfrom\u001b[39;00m \u001b[38;5;28mNone\u001b[39m\n\u001b[1;32m     68\u001b[0m \u001b[38;5;28;01mfinally\u001b[39;00m:\n\u001b[1;32m     69\u001b[0m   \u001b[38;5;28;01mdel\u001b[39;00m filtered_tb\n",
      "File \u001b[0;32m~/opt/anaconda3/envs/ths/lib/python3.8/site-packages/keras/saving/hdf5_format.py:182\u001b[0m, in \u001b[0;36mload_model_from_hdf5\u001b[0;34m(filepath, custom_objects, compile)\u001b[0m\n\u001b[1;32m    180\u001b[0m model_config \u001b[38;5;241m=\u001b[39m f\u001b[38;5;241m.\u001b[39mattrs\u001b[38;5;241m.\u001b[39mget(\u001b[38;5;124m'\u001b[39m\u001b[38;5;124mmodel_config\u001b[39m\u001b[38;5;124m'\u001b[39m)\n\u001b[1;32m    181\u001b[0m \u001b[38;5;28;01mif\u001b[39;00m model_config \u001b[38;5;129;01mis\u001b[39;00m \u001b[38;5;28;01mNone\u001b[39;00m:\n\u001b[0;32m--> 182\u001b[0m   \u001b[38;5;28;01mraise\u001b[39;00m \u001b[38;5;167;01mValueError\u001b[39;00m(\u001b[38;5;124mf\u001b[39m\u001b[38;5;124m'\u001b[39m\u001b[38;5;124mNo model config found in the file at \u001b[39m\u001b[38;5;132;01m{\u001b[39;00mfilepath\u001b[38;5;132;01m}\u001b[39;00m\u001b[38;5;124m.\u001b[39m\u001b[38;5;124m'\u001b[39m)\n\u001b[1;32m    183\u001b[0m \u001b[38;5;28;01mif\u001b[39;00m \u001b[38;5;28mhasattr\u001b[39m(model_config, \u001b[38;5;124m'\u001b[39m\u001b[38;5;124mdecode\u001b[39m\u001b[38;5;124m'\u001b[39m):\n\u001b[1;32m    184\u001b[0m   model_config \u001b[38;5;241m=\u001b[39m model_config\u001b[38;5;241m.\u001b[39mdecode(\u001b[38;5;124m'\u001b[39m\u001b[38;5;124mutf-8\u001b[39m\u001b[38;5;124m'\u001b[39m)\n",
      "\u001b[0;31mValueError\u001b[0m: No model config found in the file at <tensorflow.python.platform.gfile.GFile object at 0x7fc4d0af6880>."
     ]
    }
   ],
   "source": [
    "model =  load_my_model(model_path)\n",
    "model.summary()"
   ]
  },
  {
   "cell_type": "markdown",
   "metadata": {},
   "source": [
    "### Helper functions"
   ]
  },
  {
   "cell_type": "code",
   "execution_count": null,
   "metadata": {},
   "outputs": [],
   "source": [
    "n_actions = 5\n",
    "from IPython import display as ipythondisplay"
   ]
  },
  {
   "cell_type": "code",
   "execution_count": null,
   "metadata": {},
   "outputs": [],
   "source": [
    "def pre_process(image_frame):\n",
    "    \n",
    "   \n",
    "    I = image_frame[20:] # Crop\n",
    "    \n",
    "    #print(\"Croped Image size : \",I.shape)\n",
    "    I = cv2.resize(I,(128,128))\n",
    "    return I.astype(np.float32)"
   ]
  },
  {
   "cell_type": "code",
   "execution_count": null,
   "metadata": {},
   "outputs": [],
   "source": [
    "def isNan(val):\n",
    "     return val != val"
   ]
  },
  {
   "cell_type": "code",
   "execution_count": null,
   "metadata": {},
   "outputs": [],
   "source": [
    "test_img = pre_process(obstical_env)\n",
    "plt.imshow(test_img)\n",
    "plt.show()"
   ]
  },
  {
   "cell_type": "markdown",
   "metadata": {},
   "source": [
    "### rl logic"
   ]
  },
  {
   "cell_type": "code",
   "execution_count": null,
   "metadata": {},
   "outputs": [],
   "source": [
    "def choose_action(model,observation):\n",
    "    \n",
    "    observation = np.expand_dims(observation,axis = 0)\n",
    "    \n",
    "    logits = model.predict(observation)\n",
    "    \n",
    "    prob_weights = tf.nn.softmax(logits).numpy()\n",
    "    \n",
    "    isContainNan =  [ isNan(x) for x in prob_weights.flatten()]\n",
    "    \n",
    "    if True in   isContainNan:\n",
    "        return np.random.choice(n_actions,size = 1)[0]\n",
    "    \n",
    "    action = np.random.choice(n_actions,size = 1, p = prob_weights.flatten())[0]\n",
    "    \n",
    "    return action\n"
   ]
  },
  {
   "cell_type": "code",
   "execution_count": null,
   "metadata": {},
   "outputs": [],
   "source": [
    "class Memory:\n",
    "    def __init__(self):\n",
    "        self.clear()\n",
    "        \n",
    "    \n",
    "    def clear(self):\n",
    "        self.observations = []\n",
    "        self.actions = []\n",
    "        self.rewards = []\n",
    "        \n",
    "    def add_to_memory(self,new_observation,new_action,new_reward):\n",
    "        self.observations.append(new_observation)\n",
    "        \n",
    "        self.actions.append(new_action)\n",
    "        \n",
    "        self.rewards.append(new_reward)"
   ]
  },
  {
   "cell_type": "code",
   "execution_count": null,
   "metadata": {},
   "outputs": [],
   "source": [
    "\n",
    "test_action = choose_action(model,test_img)\n",
    "print(\"Predicted output : \",test_action)"
   ]
  },
  {
   "cell_type": "code",
   "execution_count": null,
   "metadata": {},
   "outputs": [],
   "source": [
    "### test model is predict or not\n",
    "\n",
    "MAX_ITERS = 30\n",
    "memory = Memory()"
   ]
  },
  {
   "cell_type": "code",
   "execution_count": null,
   "metadata": {},
   "outputs": [],
   "source": []
  },
  {
   "cell_type": "code",
   "execution_count": null,
   "metadata": {},
   "outputs": [],
   "source": [
    "for i_episode in range(MAX_ITERS):\n",
    "    \n",
    "    \n",
    "    # Restart the environment\n",
    "    observation = env.reset()\n",
    "    env.set_obsticals(full_obstacle_list)\n",
    "    env.set_goal(goal_pos)\n",
    "\n",
    "    previous_frame = pre_process(observation)\n",
    "    \n",
    "    while True :\n",
    "        current_frame =  pre_process(observation)\n",
    "        \n",
    "        obs_change = current_frame - previous_frame\n",
    "        plt.imshow(obs_change)\n",
    "        action = choose_action(model,obs_change)\n",
    "        env.render()\n",
    "        next_observation, reward, done, info = env.step(action)\n",
    "        \n",
    "        memory.add_to_memory(obs_change,action,reward)\n",
    "        \n",
    "        if done :\n",
    "            total_reward = sum(memory.rewards)\n",
    "            memory.clear()\n",
    "            \n",
    "            print(\"Total Reward : \",total_reward)\n",
    "            break\n",
    "        \n",
    "        observation = next_observation\n",
    "        previous_frame = current_frame"
   ]
  },
  {
   "cell_type": "code",
   "execution_count": null,
   "metadata": {},
   "outputs": [],
   "source": []
  },
  {
   "cell_type": "code",
   "execution_count": null,
   "metadata": {},
   "outputs": [],
   "source": []
  },
  {
   "cell_type": "code",
   "execution_count": null,
   "metadata": {},
   "outputs": [],
   "source": []
  },
  {
   "cell_type": "code",
   "execution_count": null,
   "metadata": {},
   "outputs": [],
   "source": []
  }
 ],
 "metadata": {
  "kernelspec": {
   "display_name": "Python 3 (ipykernel)",
   "language": "python",
   "name": "python3"
  },
  "language_info": {
   "codemirror_mode": {
    "name": "ipython",
    "version": 3
   },
   "file_extension": ".py",
   "mimetype": "text/x-python",
   "name": "python",
   "nbconvert_exporter": "python",
   "pygments_lexer": "ipython3",
   "version": "3.8.13"
  }
 },
 "nbformat": 4,
 "nbformat_minor": 2
}
