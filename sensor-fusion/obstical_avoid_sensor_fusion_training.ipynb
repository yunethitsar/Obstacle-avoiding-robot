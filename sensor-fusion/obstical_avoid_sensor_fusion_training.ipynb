{
 "cells": [
  {
   "cell_type": "code",
   "execution_count": 5,
   "id": "4201f2c3",
   "metadata": {},
   "outputs": [
    {
     "name": "stdout",
     "output_type": "stream",
     "text": [
      "SimpleGUICS2Pygame\n"
     ]
    }
   ],
   "source": [
    "try:\n",
    "    import simplegui\n",
    "    print(\"old school\")\n",
    "except ImportError:\n",
    "    print(\"SimpleGUICS2Pygame\")\n",
    "    import SimpleGUICS2Pygame.simpleguics2pygame as simplegui\n",
    "import math\n",
    "import random"
   ]
  },
  {
   "cell_type": "code",
   "execution_count": 6,
   "id": "365601e4",
   "metadata": {},
   "outputs": [],
   "source": [
    "#!pip install SimpleGUICS2Pygame"
   ]
  },
  {
   "cell_type": "code",
   "execution_count": 7,
   "id": "e170b8e8",
   "metadata": {},
   "outputs": [],
   "source": [
    "# Sensor Values\n",
    "SENSOR_FOV = 10.0 # FOV of each sensor THIS MUST BE A FLOAT!!!!!! \n",
    "SENSOR_MAX_R = 100 # max range that each sensor can report\n",
    "OBSTACLE_RAD = 20 # how big (radius) are the obstacles"
   ]
  },
  {
   "cell_type": "code",
   "execution_count": 8,
   "id": "76fe7c8c",
   "metadata": {},
   "outputs": [],
   "source": [
    "# Robot Values\n",
    "ROBOT_RAD = 30 # how big (radius) is the robot?\n",
    "SENSOR_ALERT_R = 100 #range within which sensor reports are acted upon\n",
    "SAFETY_DISTANCE = 50\n",
    "TURN_SCALE_FACTOR = 2 # how drastic do we want the turns to be\n",
    "\n"
   ]
  },
  {
   "cell_type": "markdown",
   "id": "cb36e3a1",
   "metadata": {},
   "source": [
    "### Helper functions\n"
   ]
  },
  {
   "cell_type": "code",
   "execution_count": 9,
   "id": "8fd256ba",
   "metadata": {},
   "outputs": [],
   "source": [
    "def dist_and_brg_in_deg(p0, p1):#bearing and distance in degrees between two points\n",
    "    [x1, y1] = p0\n",
    "    [x2, y2] = p1\n",
    "    r = math.sqrt((x1 - x2)**2 + (y1 - y2)**2) # distance\n",
    "    a = math.degrees(math.atan((y1 - y2)/(x1 - x2 + 0.000000001)))\n",
    "    #find and correct the quadrant...\n",
    "    if  x2 >= x1:\n",
    "        b = 90 + a\n",
    "    else:\n",
    "        b = 270 + a\n",
    "    return r, b"
   ]
  },
  {
   "cell_type": "code",
   "execution_count": 10,
   "id": "abfb1a53",
   "metadata": {},
   "outputs": [],
   "source": [
    "def brg_in_deg(p0, p1):#bearing only in degrees\n",
    "    [x1, y1] = p0\n",
    "    [x2, y2] = p1\n",
    "    a = math.degrees(math.atan((y1 - y2)/(x1 - x2 + 0.000000001)))\n",
    "    #find and correct the quadrant...\n",
    "    if  x2 >= x1:\n",
    "        b = 90 + a\n",
    "    else:\n",
    "        b = 270 + a\n",
    "    return b"
   ]
  },
  {
   "cell_type": "code",
   "execution_count": 11,
   "id": "717cdca4",
   "metadata": {},
   "outputs": [],
   "source": [
    "def relative_brg(b1, b2):\n",
    "    rb = b2 - b1\n",
    "    if rb > 180:\n",
    "        rb = 360 - rb\n",
    "    if rb < -180:\n",
    "        rb += 360\n",
    "        rb *= -1\n",
    "    return rb"
   ]
  },
  {
   "cell_type": "code",
   "execution_count": 12,
   "id": "2f1d6209",
   "metadata": {},
   "outputs": [],
   "source": [
    "def dist(p1, p0):#distance only\n",
    "    return math.sqrt((p1[0] - p0[0])**2+(p1[1]-p0[1])**2)"
   ]
  },
  {
   "cell_type": "code",
   "execution_count": 13,
   "id": "a9b6e1c3",
   "metadata": {},
   "outputs": [],
   "source": [
    "def create_vector(from_pos, length, brg):       \n",
    "    u_vec = angle_to_vector(brg)\n",
    "    #print \"generating target line...\"\n",
    "    vec0 = from_pos[0] + length * u_vec[1] \n",
    "    vec1 = from_pos[1] - length * u_vec[0]\n",
    "\n",
    "    return [vec0, vec1]"
   ]
  },
  {
   "cell_type": "code",
   "execution_count": 14,
   "id": "ad34257b",
   "metadata": {},
   "outputs": [],
   "source": [
    "def angle_to_vector(ang):#resolve angles into vectors\n",
    "    ang = math.radians(ang)\n",
    "    return [math.cos(ang), math.sin(ang)]"
   ]
  },
  {
   "cell_type": "code",
   "execution_count": 15,
   "id": "58db485f",
   "metadata": {},
   "outputs": [],
   "source": [
    "def rel_brg_fm_offset_sensor(true_hdg, sensor_offset, tgt_brg):\n",
    "    #given robot's true heading, the sensor offset angle and the\n",
    "    #true brg of the target, this fn will return the relative brg\n",
    "    #of the target from the sensor's line of sight\n",
    "    \n",
    "    sensor_look_brg = (true_hdg + sensor_offset)%360\n",
    "    tgt_rel_fm_sensor = tgt_brg - sensor_look_brg\n",
    "\n",
    "    if tgt_rel_fm_sensor < -180:\n",
    "        tgt_rel_fm_sensor += 360\n",
    "    \n",
    "    \n",
    "    #print(\"true_hdg : \",true_hdg)\n",
    "    #print(\"sensor_offset : \",sensor_offset)\n",
    "    #print(\"tgt_brg : \",tgt_brg)\n",
    "    #print(\"tgt_rel_fm_sensor : \",tgt_rel_fm_sensor)\n",
    "    \n",
    "    return tgt_rel_fm_sensor"
   ]
  },
  {
   "cell_type": "code",
   "execution_count": 16,
   "id": "570cd5d9",
   "metadata": {},
   "outputs": [],
   "source": [
    "def find_location_onMap(pos):\n",
    "    location_in_the_grid=[]\n",
    "    location_in_the_map=[]\n",
    "    i=0\n",
    "    i1=0\n",
    "    loc=0\n",
    "    loc1=0\n",
    "    for squares in range(0,10):\n",
    "        i1=0\n",
    "        for quare in range(0,10):\n",
    "            loc=0\n",
    "            #square.append((i,i1))\n",
    "            if ((pos[0]>i and pos[0]<=i+50) and (pos[1]>i1 and pos[1]<=i1+50)):\n",
    "                for rows in range(0,4):\n",
    "                    loc1=0\n",
    "                    for col in range(0,4):\n",
    "                        if ((pos[0]>loc+i and pos[0]<=loc+i+12.5) and (pos[1]>loc1+i1 and pos[1]<=loc1+12.5+i1)):           \n",
    "                            location_in_the_grid.append(loc)\n",
    "                            location_in_the_grid.append(loc1)\n",
    "                            location_in_the_map.append(i)\n",
    "                            location_in_the_map.append(i1)\n",
    "\n",
    "                        loc1+=12.5\n",
    "                    loc+=12.5\n",
    "            i1+=50\n",
    "        i+=50\n",
    "            \n",
    "    #To to convert to 3x3 grid\n",
    "    location_in_the_grid[0]=int(location_in_the_grid[0]/12.5)\n",
    "    location_in_the_grid[1]=int(location_in_the_grid[1]/12.5)\n",
    "    #To to convert to 5x5 map each sqaure is 100X100 pixel\n",
    "    location_in_the_map[0]=int(location_in_the_map[0]/50)\n",
    "    location_in_the_map[1]=int(location_in_the_map[1]/50)\n",
    "    return location_in_the_map, location_in_the_grid"
   ]
  },
  {
   "cell_type": "code",
   "execution_count": 17,
   "id": "299ecc4d",
   "metadata": {},
   "outputs": [],
   "source": [
    "def policy_finder (mylocation,obs):\n",
    "    #mylocation_onMap, my_location_onGrid = find_location_onMap(mylocation)\n",
    "    #obs_location_onMap, obs_location_onGrid = find_location_onMap(obs)\n",
    "    \n",
    "\n",
    "    \n",
    "    direction = random.sample(direction_list,1)[0]\n",
    "    return direction\n",
    "                    "
   ]
  },
  {
   "cell_type": "markdown",
   "id": "958e605a",
   "metadata": {},
   "source": [
    "## define constants"
   ]
  },
  {
   "cell_type": "code",
   "execution_count": 18,
   "id": "e8c969f8",
   "metadata": {},
   "outputs": [],
   "source": [
    "#define classes\n",
    "\n",
    "class Sonar:\n",
    "    def __init__(self, index, FOV, max_r, robot_co):\n",
    "        #create a instance of this class\n",
    "        self.pos = [0,0]\n",
    "        self.index = index\n",
    "        self.max_r = max_r\n",
    "        self.offset =  index * FOV #+ FOV/2 # on what relative bearing is this sensor looking?\n",
    "        self.look_brg = (robot_co + self.offset)%360\n",
    "        self.vec = [0,0] # just a vector for grpahical ouptut of pings\n",
    "        self.has_valid_echo = False #indicates if this sonar has a \"valid\" obstacle in sight\n",
    "    \n",
    "    def d_test_checker(self,rel_brg):\n",
    "        try:\n",
    "            d_test = math.asin(math.radians(rel_brg))\n",
    "            return True\n",
    "        except ValueError as error:\n",
    "            return False\n",
    "        \n",
    "    \n",
    "    def can_observe(self, robot_co, obstacle_pos, obstacle_rad):\n",
    "        #if obstacle is within within the max_r of the sensor\n",
    "        #and within FOV, return True and the distance observed\n",
    "        #else return False, 0\n",
    "        \n",
    "        dist, brg = dist_and_brg_in_deg(self.pos, obstacle_pos)\n",
    "        \n",
    "        if dist < self.max_r: #if the object is within max_r....\n",
    "            rel_brg = rel_brg_fm_offset_sensor(robot_co, self.offset, brg)#rel brg of tgt from sensor LOS\n",
    "            d_test_checker = self.d_test_checker(rel_brg)\n",
    "            \n",
    "            if d_test_checker:\n",
    "                d_asin = math.asin(math.radians(rel_brg))\n",
    "\n",
    "                d_test = abs(dist * d_asin )\n",
    "                if d_test < OBSTACLE_RAD + ROBOT_RAD: \n",
    "                    self.has_valid_echo = True\n",
    "                    return True, dist # if the object is within min allowed lateral separation\n",
    "                else:\n",
    "                    self.has_valid_echo = False\n",
    "                    return False, 0 # ignore it\n",
    "\n",
    "            else:\n",
    "                    self.has_valid_echo = False\n",
    "                    return False, 0 # ignore it\n",
    "            \n",
    "        else:#if the object is outside max_r of this sonar...ignore it\n",
    "            self.has_valid_echo = False\n",
    "            return False, 0\n",
    "    \n",
    "    \n",
    "    def ping_simulated(self, obstacle_list, robot_co):\n",
    "        #from robot position and robot_co, run through obs_list\n",
    "        #return the distance to closest object within \n",
    "        #FOV and within self.max_r of THIS SENSOR\n",
    "        # range all the obstacles in view, find the nearest\n",
    "        \n",
    "        range_list = []\n",
    "        for obs in obstacle_list:# find objects within max_r and inside FOV\n",
    "            #print \"pinging for robot_co:\", robot_co\n",
    "            can_observe, d = self.can_observe(robot_co, obs, OBSTACLE_RAD)\n",
    "            \n",
    "            if can_observe:\n",
    "                range_list.append(d) \n",
    "        if len(range_list) > 0:\n",
    "            self.output = min(range_list)- SAFETY_DISTANCE\n",
    "        else:\n",
    "            self.output = SENSOR_MAX_R\n",
    "            \n",
    "        \n",
    "        \n",
    "    def update(self, platform_pos, platform_co, obstacle_list):\n",
    "              \n",
    "        #update own parameters\n",
    "        self.pos = platform_pos\n",
    "        \n",
    "        self.look_brg = (platform_co + self.offset)%360\n",
    "        \n",
    "        #calculate output of this sensor\n",
    "        \n",
    "        self.ping_simulated(obstacle_list, platform_co)\n",
    "        \n",
    "        self.vec = create_vector(self.pos, self.output + ROBOT_RAD, self.look_brg)#calculate distance vector for drawing on canvas\n",
    "       \n",
    "        #print(\"sensor index:\", self.index)\n",
    "        #print(\"sense range: \",self.output)\n",
    "        #print(\" look brg:\", self.look_brg)\n",
    "        \n",
    "    def draw(self, canvas,robot_co): # draw the sensor's output\n",
    "        #if self.has_valid_echo:\n",
    "        self.look_brg = (robot_co + self.offset)%360\n",
    "        self.ping_simulated(obstacle_list, robot_co)\n",
    "        self.vec = create_vector(self.pos, self.output + ROBOT_RAD, self.look_brg)\n",
    "        \n",
    "        #canvas.draw_line(self.pos,self.co_vec, 1, 'lime')\n",
    "        #canvas.draw_text(str(self.index),(self.co_vec[0]+4, self.co_vec[1]+4), 10, \"lime\"),\n",
    "        \n",
    "        \n",
    "        canvas.draw_line(self.pos,self.vec, 1, 'lime')\n",
    "        canvas.draw_text(str(self.index),(self.vec[0]+4, self.vec[1]+4), 10, \"lime\"),\n",
    "        #print self.index, \" VE:\" , self.has_valid_echo"
   ]
  },
  {
   "cell_type": "code",
   "execution_count": 19,
   "id": "756a41cb",
   "metadata": {},
   "outputs": [],
   "source": [
    "class Sonar_Array:\n",
    "    def __init__(self, n_sensors, SENSOR_FOV, SENSOR_MAX_R, robot_co):\n",
    "        self.sonar_list = []\n",
    "        self.need_diversion_flag = False\n",
    "        \n",
    "        i_pos = [x for x in range(1, int(n_sensor/2) + 1)]\n",
    "        i_neg = [x for x in range(-int(n_sensor/2) , 0)]\n",
    "        i_pos = i_pos[::-1]\n",
    "        i_neg = i_neg[::-1]\n",
    "        i_pos.extend(i_neg)\n",
    "        self.sensor_alert_list = {}\n",
    "        self.sensor_danger_range = {}\n",
    "\n",
    "        for i in i_pos:#create a list of individual sonars...\n",
    "            self.sonar_list.append(Sonar(i, SENSOR_FOV, SENSOR_MAX_R, robot_co))\n",
    "            self.sensor_alert_list[i] = False\n",
    "            self.sensor_danger_range[i] = 0\n",
    "            \n",
    "      \n",
    "    def update(self, robot_pos, robot_co, obstacle_list):\n",
    "        #update sonar array\n",
    "        for sonar in self.sonar_list:#update output of each sensor\n",
    "            \n",
    "            sonar.update(robot_pos, robot_co, obstacle_list)\n",
    "           \n",
    "\n",
    "        \n",
    "        self.check_and_update_sensor_status(robot_pos,robot_co)\n",
    "        return self.sensor_alert_list,self.sensor_danger_range\n",
    "        \n",
    "    def check_and_update_sensor_status(self, robot_pos, robot_co):\n",
    "        #process data by the weighted sum method and \n",
    "        #return (1) whether turn is required or not (2) index of recommended sonar LOS to turn to\n",
    "        sum_d = 0\n",
    "        sum_wt = 0\n",
    "        alert = False\n",
    "\n",
    "\n",
    "        #update sensor_check_list and danger_range\n",
    "\n",
    "        for sonar in self.sonar_list:\n",
    "\n",
    "            if sonar.output < SENSOR_ALERT_R:#has this sonar found anything in danger zone?\n",
    "                alert = True\n",
    "                self.sensor_alert_list[sonar.index] = True\n",
    "                self.sensor_danger_range[sonar.index] = sonar.output\n",
    "                \n",
    "                break # processing completed\n",
    "            else: #no obstacle in danger zone\n",
    "                rec_index = 0\n",
    "\n",
    "\n",
    "                \n",
    "        \n",
    "        \n",
    "    def draw(self, canvas,robot_co):\n",
    "        for sonar in self.sonar_list:\n",
    "            sonar.draw(canvas,robot_co)"
   ]
  },
  {
   "cell_type": "code",
   "execution_count": 20,
   "id": "60f3c6b8",
   "metadata": {},
   "outputs": [],
   "source": [
    "class Robot:\n",
    "    def __init__(self, pos, co, n_sensor):\n",
    "        self.goal_pos = goal_pos\n",
    "        self.pos = pos\n",
    "        self.init_pos = pos\n",
    "        \n",
    "        self.history = [pos]\n",
    "        \n",
    "        self.co = co\n",
    "        self.init_co = co\n",
    "        self.spd = 2 #10 # robot speed in pixels/ step\n",
    "        self.s_array = Sonar_Array(n_sensor, SENSOR_FOV, SENSOR_MAX_R, self.co)\n",
    "        self.goal_brg = brg_in_deg(self.pos, goal_pos)\n",
    "        self.obstacles_in_view = []\n",
    "        self.is_sensor_alert = False\n",
    "        self.direction_list = ['U','UR','R','RD','D','DL','L','LU']\n",
    "        \n",
    "        \n",
    "        \n",
    "        # data points\n",
    "        self.max_bound = 500\n",
    "        self.min_bound = 0\n",
    "        self.process_count = 0\n",
    "        self.data_points = []\n",
    "        self.cur_data_points = []\n",
    "        self.data_losses = []\n",
    "        self.choosed_direction = []\n",
    "        \n",
    "        # model work\n",
    "        self.model = None\n",
    "        \n",
    "    \n",
    "    def restart_robot(self):\n",
    "        self.process_count = 0\n",
    "        self.pos = self.init_pos\n",
    "        self.co = self.init_co\n",
    "        \n",
    "        self.history = [self.pos]\n",
    "        self.data_points = []\n",
    "        self.cur_data_points = []\n",
    "        self.data_losses = []\n",
    "        self.choosed_direction = []\n",
    "        \n",
    "    \n",
    "    \n",
    "    \n",
    "    def get_obstacles_in_view(self):\n",
    "        return self.obstacles_in_view\n",
    "    \n",
    "    def d_test_checker(self,rel_brg):\n",
    "        try:\n",
    "            d_test = math.asin(math.radians(rel_brg))\n",
    "            return True\n",
    "        except ValueError as error:\n",
    "            return False\n",
    "\n",
    "    def policy_finder(self,sensor_alert_list, sensor_range_list):\n",
    "        data_point1 = []\n",
    "        \n",
    "        #update goal direction\n",
    "        self.goal_brg = brg_in_deg(self.pos, goal_pos)\n",
    "        self.goal_brg = float(\"{:.2f}\".format(self.goal_brg))\n",
    "        data_point1.append(self.goal_brg)\n",
    "        data_point1.append(int(self.goal_pos[0]))\n",
    "        data_point1.append(int(self.goal_pos[1]))\n",
    "        \n",
    "        \n",
    "        #calculate robot location and co\n",
    "        u_vec = angle_to_vector(self.co)\n",
    "        temp_pos0 = self.pos[0] + (self.spd  * u_vec[1])\n",
    "        temp_pos1 = self.pos[0] - ( self.spd  * u_vec[0])\n",
    "        \n",
    "        temp_pos0 = int(temp_pos0)\n",
    "        temp_pos1 = int(temp_pos0)\n",
    "        temp_co = float(\"{:.2f}\".format(self.co))\n",
    "        \n",
    "        data_point1.append(temp_co)\n",
    "        data_point1.append(temp_pos0)\n",
    "        data_point1.append(temp_pos1)\n",
    "        \n",
    "        \n",
    "        for key in sensor_alert_list.keys():\n",
    "            if sensor_alert_list[key]:\n",
    "                data_point1.append(1)\n",
    "            else:\n",
    "                data_point1.append(0)\n",
    "            \n",
    "            sensor_range = float(\"{:.2f}\".format(sensor_range_list[key]))\n",
    "            data_point1.append(sensor_range)\n",
    "            \n",
    "        self.cur_data_points  = data_point1\n",
    "        self.data_points.append(data_point1)\n",
    "        \n",
    "        #direction = random.sample(self.direction_list,1)[0]\n",
    "        direction = self.get_model_prediction(self.cur_data_points)\n",
    "        cur_loss = self.calcuate_reward(data_point1)\n",
    "        self.data_losses.append(cur_loss)\n",
    "        self.choosed_direction.append(direction)\n",
    "        return direction\n",
    "    \n",
    "    \n",
    "    \n",
    "    def get_model_prediction(self,cur_data_points):\n",
    "        predicted_list = self.model.predict([cur_data_points])[0]\n",
    "        predicted_label = self.class_rank(predicted_list,self.direction_list)\n",
    "        return predicted_label\n",
    "    \n",
    "    \n",
    "    def calculate_offset(self,sensor_alert_list, sensor_range):\n",
    "        action = self.policy_finder(sensor_alert_list, sensor_range)\n",
    "        offset = 0\n",
    "        if action == 'UR':\n",
    "            offset=45                       \n",
    "        elif action == 'R':\n",
    "            offset=90\n",
    "        elif action == 'RD':\n",
    "            offset=90\n",
    "        elif action == 'D':\n",
    "            offset=180\n",
    "        elif action == 'DL':\n",
    "            offset=225\n",
    "        elif action == 'L':\n",
    "            offset=270\n",
    "        elif action == 'LU':\n",
    "            offset=315\n",
    "        elif action == 'U':\n",
    "            offset = 359\n",
    "        \n",
    "        updated_robot_col=(offset%self.co)+self.co\n",
    "        return updated_robot_col\n",
    "    \n",
    "    \n",
    "    def get_sensor_alert(self,sensor_alert_list):\n",
    "        for key,value in sensor_alert_list.items():\n",
    "            if value:\n",
    "                return True\n",
    "        return False\n",
    "    \n",
    "    \n",
    "    def update(self):\n",
    "  \n",
    "        self.process_count = self.process_count+1\n",
    "        self.obstacles_in_view = [] #delete all the old obstacles in view\n",
    "        for obs in full_obstacle_list:\n",
    "            if dist(self.pos, obs) < SENSOR_MAX_R:\n",
    "                self.obstacles_in_view.append(obs)\n",
    "                \n",
    "\n",
    "                \n",
    "        #re-calculate direction to goal\n",
    "        self.goal_brg = brg_in_deg(self.pos, goal_pos)\n",
    "        \n",
    "        sensor_alert_list, sensor_range = self.s_array.update(self.pos, self.goal_brg, self.obstacles_in_view)\n",
    "        self.is_sensor_alert = self.get_sensor_alert(sensor_alert_list)\n",
    "\n",
    "                \n",
    "        #while not self.path_is_clear() or  self.is_sensor_alert:\n",
    "\n",
    "            #re-estimate sensor output by weighted sum method\n",
    "\n",
    "        sensor_alert_list, sensor_range = self.s_array.update(self.pos, self.goal_brg, self.obstacles_in_view)\n",
    "        self.is_sensor_alert = self.get_sensor_alert(sensor_alert_list)\n",
    "\n",
    "        updated_robo_co1 = self.calculate_offset(sensor_alert_list, sensor_range)\n",
    "\n",
    "        if self.check_can_move(2,updated_robo_co1):\n",
    "            self.co = updated_robo_co1\n",
    "            self.move(2)\n",
    "            return\n",
    "        else:\n",
    "            return\n",
    "\n",
    "\n",
    "\n",
    "            \n",
    "    def class_rank(self,predicted_list,class_list):\n",
    "        index = 0\n",
    "        maxValue = predicted_list[0]\n",
    "        for i,temp in enumerate(predicted_list):\n",
    "            if maxValue < int(temp):\n",
    "                maxValue = int(temp)\n",
    "                index = i\n",
    "        return class_list[index]\n",
    "\n",
    "\n",
    "    def path_is_clear(self):#return True if there is a clear path to the goal\n",
    "        goal_brg = brg_in_deg(self.pos, goal_pos)\n",
    "        for obs in self.obstacles_in_view:\n",
    "            if dist(self.pos, goal_pos) > dist(self.pos, obs):\n",
    "                d_obs, obs_brg = dist_and_brg_in_deg(self.pos, obs)\n",
    "                rel_brg = abs(relative_brg(goal_brg, obs_brg))\n",
    "                d_test_checker = self.d_test_checker(rel_brg)\n",
    "                if d_test_checker:\n",
    "                    d_lateral = abs(d_obs * math.asin(math.radians(rel_brg)))\n",
    "                    if d_lateral < OBSTACLE_RAD + ROBOT_RAD: \n",
    "                        return False    \n",
    "        return True\n",
    "    \n",
    "    def calcuate_reward(self,data_points):\n",
    "        cur_data = data_points\n",
    "        goal_x = cur_data[1]\n",
    "        goal_y = cur_data[2]\n",
    "\n",
    "        robot_x = cur_data[4]\n",
    "        robot_y = cur_data[5]\n",
    "        \n",
    "        init_x = self.init_pos[0]\n",
    "        init_y = self.init_pos[1]\n",
    "       \n",
    "        _dist_roboty_and_goal =  np.sqrt(((goal_x-robot_x)**2)+ ((goal_y - robot_y)**2))\n",
    "        \n",
    "        _reward = _dist_roboty_and_goal/1000\n",
    "        \n",
    "        return _reward\n",
    "    \n",
    "    def check_can_move(self,dT,updated_robo_co1):\n",
    "        u_vec = angle_to_vector(updated_robo_co1)\n",
    "        temp_pos0 = self.pos[0] + (self.spd * dT * u_vec[1])\n",
    "        temp_pos1 = self.pos[0] - ( self.spd * dT * u_vec[0])\n",
    "        new_pos0 = temp_pos0+(self.spd * dT * u_vec[1])\n",
    "        new_pos1 =  temp_pos1-(self.spd * dT * u_vec[0])\n",
    "        \n",
    "        if (self.min_bound <new_pos0 and self.max_bound > new_pos0) and (self.min_bound <new_pos1 and self.max_bound > new_pos1):\n",
    "            return True\n",
    "        else:\n",
    "            return False\n",
    "        \n",
    "    \n",
    "    def move(self, dT):    \n",
    "        u_vec = angle_to_vector(self.co)\n",
    "        \n",
    "        self.pos[0] += self.spd * dT * u_vec[1]\n",
    "        self.pos[1] -= self.spd * dT * u_vec[0]\n",
    "        \n",
    "        self.history.append([self.pos[0], self.pos[1]])\n",
    "        \n",
    "    def get_pos(self):\n",
    "        return self.pos\n",
    "    \n",
    "    def set_pos(self, pos):\n",
    "        self.pos = pos\n",
    "    \n",
    "    def set_co(self, co):\n",
    "        self.co = co\n",
    "        u_vec = angle_to_vector(self.co)\n",
    "        dT = 1\n",
    "        new_pos0 = self.pos[0]+(self.spd * dT * u_vec[1])\n",
    "        new_pos1 =  self.pos[1]-(self.spd * dT * u_vec[0])\n",
    "    \n",
    "    def delete_history(self):\n",
    "        self.history = []\n",
    "   \n",
    "    def draw(self, canvas):\n",
    "        #Draw the robot\n",
    "        canvas.draw_circle(self.pos, 4, 3, \"yellow\")\n",
    "        canvas.draw_text(\"R\", [self.pos[0] + 10, self.pos[1] +10], 16, \"yellow\")\n",
    "        #Draw brg line to goal\n",
    "        #self.goal_vec = create_vector(self.pos, 150, self.goal_brg)\n",
    "        #canvas.draw_line(self.pos, self.goal_vec, 2, \"teal\")\n",
    "        #Draw current heading vector\n",
    "        self.co_vec = create_vector(self.pos, 150, self.co)\n",
    "        canvas.draw_line(self.pos, self.co_vec, 2, \"white\")\n",
    "        #draw the output of the sonar array\n",
    "        self.s_array.draw(canvas,self.co)\n",
    "        #draw the obstacles in view\n",
    "        for obs in self.obstacles_in_view:\n",
    "            canvas.draw_circle(obs,2,1, \"red\")\n",
    "            canvas.draw_circle(obs,OBSTACLE_RAD, 1, \"green\") \n",
    "        #draw history\n",
    "        for point in self.history:\n",
    "            canvas.draw_circle(point,2,2, \"lime\")\n",
    "            \n",
    "      "
   ]
  },
  {
   "cell_type": "code",
   "execution_count": null,
   "id": "481f655f",
   "metadata": {},
   "outputs": [],
   "source": []
  },
  {
   "cell_type": "markdown",
   "id": "4cff1ca3",
   "metadata": {},
   "source": [
    "## define event handlers"
   ]
  },
  {
   "cell_type": "code",
   "execution_count": 21,
   "id": "1cc3bf92",
   "metadata": {},
   "outputs": [],
   "source": [
    "def click(pos):\n",
    "    global g_state, start_pos, goal_pos, robot_pos\n",
    "    if g_state == \"Start\":\n",
    "        start_pos = pos\n",
    "        r1.set_pos(list(pos))\n",
    "    elif g_state == \"Goal\":\n",
    "        goal_pos = pos\n",
    "        r1.set_co(brg_in_deg(r1.get_pos(), pos))\n",
    "    elif g_state == \"Set Robot\":\n",
    "        r1.set_co(brg_in_deg(r1.get_pos(), pos))\n",
    "        r1.set_pos(list(pos))\n",
    "        r1.delete_history()\n",
    "    elif g_state == \"Add Obs\":\n",
    "        full_obstacle_list.append(pos)\n",
    "        #update the robot\n",
    "    r1.update()\n",
    "    g_state = \"None\""
   ]
  },
  {
   "cell_type": "code",
   "execution_count": 22,
   "id": "917bd5e6",
   "metadata": {},
   "outputs": [],
   "source": [
    "def set_start():\n",
    "    global g_state\n",
    "    g_state = \"Start\"\n",
    "    \n",
    "def set_goal():\n",
    "    global g_state\n",
    "    g_state = \"Goal\"\n",
    "\n",
    "def set_robot_pos():\n",
    "    global g_state\n",
    "    g_state = \"Set Robot\"\n",
    "\n",
    "def alter_co(text):\n",
    "    r1.set_co(float(text))\n",
    "    r1.update()\n",
    "    \n",
    "def draw(canvas):\n",
    "    #draw start \n",
    "    canvas.draw_circle(start_pos, 4, 3, \"red\")\n",
    "    canvas.draw_text(\"S\", [start_pos[0] + 10, start_pos[1] +10], 16, \"red\")\n",
    "    #draw goal\n",
    "    canvas.draw_circle(goal_pos, 4, 3, \"green\")\n",
    "    canvas.draw_text(\"G\", [goal_pos[0] + 10, goal_pos[1] +10], 16, \"green\")\n",
    "    #draw the obstacles\n",
    "    for obs in full_obstacle_list:\n",
    "        canvas.draw_circle(obs,2,1, \"red\")\n",
    "        canvas.draw_circle(obs,OBSTACLE_RAD, 1, \"white\") \n",
    "    \n",
    "    #draw sonar lines...\n",
    "    r1.draw(canvas)\n",
    "\n",
    "def step():\n",
    "        r1.update()\n",
    "\n",
    "def add_obs():\n",
    "    global g_state\n",
    "    g_state = \"Add Obs\""
   ]
  },
  {
   "cell_type": "code",
   "execution_count": null,
   "id": "e0c24593",
   "metadata": {},
   "outputs": [],
   "source": []
  },
  {
   "cell_type": "markdown",
   "id": "c8c33c41",
   "metadata": {},
   "source": [
    "# Robot"
   ]
  },
  {
   "cell_type": "code",
   "execution_count": 23,
   "id": "8cf504d7",
   "metadata": {},
   "outputs": [],
   "source": [
    "#define globals\n",
    "\n",
    "g_state = \"None\"\n",
    "\n",
    "start_pos = [10,10]\n",
    "robot_pos = [10, 10]\n",
    "robot_co = 1\n",
    "\n",
    "goal_pos = [500,500]\n",
    "obstacle_list = [(300, 213), (310, 124), (250, 110), (300, 230)]\n",
    "full_obstacle_list = [(10,200),(250, 110), (200,280),(220,200), (300,300), (200,100), (400,150),(400, 110), \n",
    "                 (430, 390), (201, 304), (135, 281), \n",
    "                 (286, 373), (175, 280), (250, 375), (139, 327), (369, 278), \n",
    "                 (295, 196), (210, 111),(100,100),(110,110),(79,250)]\n",
    "\n",
    "full_obstacle_list =   full_obstacle_list#obstacle_list\n",
    "\n",
    "#create a robot with 6 sensors\n",
    "\n",
    "n_sensor = 10 \n",
    "\n",
    "#create a sonar array\n",
    "#s1 = Sonar_Array(n_sensor, SENSOR_FOV, SENSOR_MAX_R, robot_co)\n",
    "r1 = Robot(robot_pos, robot_co, n_sensor)\n"
   ]
  },
  {
   "cell_type": "markdown",
   "id": "f8f5b3e1",
   "metadata": {},
   "source": [
    "## create simplegui controls"
   ]
  },
  {
   "cell_type": "code",
   "execution_count": 24,
   "id": "c4ae89fc",
   "metadata": {
    "scrolled": true
   },
   "outputs": [],
   "source": [
    "f1 = simplegui.create_frame(\"Obs Avoidance\", 500, 500)\n",
    "#btn_start = f1.add_button(\"Set Start\", set_start, 100)\n",
    "btn_goal = f1.add_button(\"Set Goal\", set_goal, 100)\n",
    "btn_robot = f1.add_button(\"Set Robot\", set_robot_pos, 100)\n",
    "txt_r_co = f1.add_input(\"Robot Co\", alter_co, 100)\n",
    "btn_step = f1.add_button(\"Step\", step, 100)\n",
    "\n",
    "btn_add_obs = f1.add_button(\"Add Obs\", add_obs, 100)\n",
    "\n",
    "f1.set_draw_handler(draw)\n",
    "f1.set_mouseclick_handler(click)\n",
    "\n",
    "#start simplegui\n",
    "\n",
    "#f1.start()"
   ]
  },
  {
   "cell_type": "code",
   "execution_count": null,
   "id": "329f8a8a",
   "metadata": {},
   "outputs": [],
   "source": []
  },
  {
   "cell_type": "code",
   "execution_count": 25,
   "id": "33cff9cf",
   "metadata": {},
   "outputs": [],
   "source": [
    "class Memory:\n",
    "    def __init__(self):\n",
    "        self.clear()\n",
    "        \n",
    "    \n",
    "    def clear(self):\n",
    "        self.observations = []\n",
    "        self.actions = []\n",
    "        self.rewards = []\n",
    "        \n",
    "    def add_to_memory(self,new_observation,new_action,new_reward):\n",
    "        self.observations.append(new_observation)\n",
    "        \n",
    "        self.actions.append(new_action)\n",
    "        \n",
    "        self.rewards.append(new_reward)"
   ]
  },
  {
   "cell_type": "markdown",
   "id": "622d5db5",
   "metadata": {},
   "source": [
    "### Model work"
   ]
  },
  {
   "cell_type": "code",
   "execution_count": null,
   "id": "0b58433c",
   "metadata": {},
   "outputs": [],
   "source": [
    "import numpy as np\n",
    "import tensorflow as tf\n",
    "from tensorflow.keras.models import Model"
   ]
  },
  {
   "cell_type": "code",
   "execution_count": null,
   "id": "c6d923e3",
   "metadata": {},
   "outputs": [],
   "source": [
    "def create_model():\n",
    "    n_actions = 8\n",
    "    model_input_shape = (None,26)\n",
    "    model = tf.keras.models.Sequential([\n",
    "    tf.keras.layers.InputLayer(input_shape= model_input_shape),\n",
    "    tf.keras.layers.Dense(units= 1024, activation = tf.nn.relu),\n",
    "    tf.keras.layers.Dense(units= 1024, activation = tf.nn.relu),\n",
    "    tf.keras.layers.Dense(units= 512, activation = tf.nn.relu),\n",
    "    tf.keras.layers.Dense(units= 512, activation = tf.nn.relu),\n",
    "    tf.keras.layers.Dense(units= 256, activation = tf.nn.relu),\n",
    "    tf.keras.layers.Dense(units= 256, activation = tf.nn.relu),\n",
    "    tf.keras.layers.Dense(units= n_actions,activation=None)\n",
    "    ])\n",
    "    model.build(model_input_shape)\n",
    "    return model"
   ]
  },
  {
   "cell_type": "code",
   "execution_count": null,
   "id": "e9da5512",
   "metadata": {},
   "outputs": [],
   "source": [
    "learning_rate=1e-2\n",
    "r1.model = create_model()\n",
    "optimizer = tf.keras.optimizers.Adam(learning_rate)\n",
    "r1.model.summary()"
   ]
  },
  {
   "cell_type": "code",
   "execution_count": null,
   "id": "9301a34a",
   "metadata": {},
   "outputs": [],
   "source": [
    "\n",
    "#start simplegui\n",
    "\n",
    "#f1.start()\n",
    "\n",
    "\n",
    "while True:\n",
    "    if r1.process_count >= 20:\n",
    "        break\n",
    "    r1.update()\n",
    "    "
   ]
  },
  {
   "cell_type": "code",
   "execution_count": null,
   "id": "ee0e08bc",
   "metadata": {},
   "outputs": [],
   "source": [
    "print(len(r1.data_points))"
   ]
  },
  {
   "cell_type": "code",
   "execution_count": null,
   "id": "f18d1b99",
   "metadata": {},
   "outputs": [],
   "source": [
    "index = 0\n",
    "print(r1.data_points[index])\n",
    "print(r1.data_losses[index]/np.sum(r1.data_losses) *100)"
   ]
  },
  {
   "cell_type": "code",
   "execution_count": null,
   "id": "5efc44bc",
   "metadata": {},
   "outputs": [],
   "source": [
    "index = 9\n",
    "print(r1.data_points[index])\n",
    "print(r1.data_losses[index]/np.sum(r1.data_losses)*100)"
   ]
  },
  {
   "cell_type": "code",
   "execution_count": null,
   "id": "280583d4",
   "metadata": {},
   "outputs": [],
   "source": []
  },
  {
   "cell_type": "code",
   "execution_count": null,
   "id": "1e9b8d9a",
   "metadata": {},
   "outputs": [],
   "source": [
    "r1.data_losses[index]"
   ]
  },
  {
   "cell_type": "code",
   "execution_count": null,
   "id": "dfee0514",
   "metadata": {},
   "outputs": [],
   "source": [
    "r1.data_losses[:10]"
   ]
  },
  {
   "cell_type": "code",
   "execution_count": null,
   "id": "fc33bd99",
   "metadata": {},
   "outputs": [],
   "source": [
    "r1.data_losses[6]"
   ]
  },
  {
   "cell_type": "code",
   "execution_count": null,
   "id": "f097df92",
   "metadata": {},
   "outputs": [],
   "source": []
  },
  {
   "cell_type": "code",
   "execution_count": null,
   "id": "ce11fb87",
   "metadata": {},
   "outputs": [],
   "source": []
  },
  {
   "cell_type": "code",
   "execution_count": null,
   "id": "4824c5f8",
   "metadata": {},
   "outputs": [],
   "source": [
    "r1.choosed_direction[:10]"
   ]
  },
  {
   "cell_type": "code",
   "execution_count": null,
   "id": "fab9731c",
   "metadata": {},
   "outputs": [],
   "source": [
    "print(len(r1.data_losses))"
   ]
  },
  {
   "cell_type": "code",
   "execution_count": null,
   "id": "07e7f0b4",
   "metadata": {},
   "outputs": [],
   "source": []
  },
  {
   "cell_type": "markdown",
   "id": "f04dfcb6",
   "metadata": {},
   "source": [
    "# Training Step"
   ]
  },
  {
   "cell_type": "code",
   "execution_count": 33,
   "id": "e30b56bc",
   "metadata": {},
   "outputs": [],
   "source": [
    "def action_encoder(action_list):\n",
    "    direction_list = {'U': 0,\n",
    "                      'UR':1,\n",
    "                      'R': 2,\n",
    "                      'RD':3,\n",
    "                      'D':4,\n",
    "                      'DL':5,\n",
    "                      'L':6,\n",
    "                      'LU':7}\n",
    "    encoded_action_list = [direction_list[x] for x in action_list]\n",
    "    \n",
    "    return encoded_action_list\n",
    "    \n",
    "    "
   ]
  },
  {
   "cell_type": "code",
   "execution_count": null,
   "id": "26c2bc42",
   "metadata": {},
   "outputs": [],
   "source": []
  },
  {
   "cell_type": "code",
   "execution_count": null,
   "id": "04c8e2f4",
   "metadata": {},
   "outputs": [],
   "source": []
  },
  {
   "cell_type": "code",
   "execution_count": 34,
   "id": "ebfb37b9",
   "metadata": {},
   "outputs": [],
   "source": [
    "### Loss function ###\n",
    "def compute_loss(logits,actions,rewards):\n",
    "    neg_logprob = tf.nn.sparse_softmax_cross_entropy_with_logits(logits = logits,labels = actions)\n",
    "\n",
    "    loss = tf.reduce_mean(neg_logprob * rewards)\n",
    "\n",
    "    return loss"
   ]
  },
  {
   "cell_type": "code",
   "execution_count": 35,
   "id": "e856326d",
   "metadata": {},
   "outputs": [],
   "source": [
    "### Training step (forward and backpropagation) ###\n",
    "def train_step(model,optimizer,observations,actions,discounted_rewards):\n",
    "    with tf.GradientTape() as tape:\n",
    "        #print(observations.shape)\n",
    "        logits = model(observations)\n",
    "        loss = compute_loss(logits,actions,discounted_rewards)\n",
    "\n",
    "    grads = tape.gradient(loss,model.trainable_variables)\n",
    "    optimizer.apply_gradients(zip(grads,model.trainable_variables))"
   ]
  },
  {
   "cell_type": "code",
   "execution_count": 36,
   "id": "a4f894cb",
   "metadata": {},
   "outputs": [
    {
     "name": "stdout",
     "output_type": "stream",
     "text": [
      "[[135.0, 500, 500, 1.0, 10, 10, 0, 0.0, 0, 0.0, 0, 0.0, 0, 0.0, 0, 0.0, 0, 0.0, 0, 0.0, 0, 0.0, 0, 0.0, 0, 0.0], [135.24, 500, 500, 1.0, 10, 10, 0, 0.0, 0, 0.0, 0, 0.0, 0, 0.0, 0, 0.0, 0, 0.0, 0, 0.0, 0, 0.0, 0, 0.0, 0, 0.0]]\n"
     ]
    }
   ],
   "source": [
    "observations_test =  r1.data_points[0:2]\n",
    "print(observations_test)"
   ]
  },
  {
   "cell_type": "code",
   "execution_count": 37,
   "id": "8ef638cf",
   "metadata": {},
   "outputs": [
    {
     "name": "stdout",
     "output_type": "stream",
     "text": [
      "[7, 7]\n",
      "[0.6929646455628166, 0.6929646455628166]\n"
     ]
    }
   ],
   "source": [
    "actions_test = r1.choosed_direction[0:2]\n",
    "encoded_action_test = action_encoder(actions_test)\n",
    "discounted_rewards_test = r1.data_losses[0:2]\n",
    "print(encoded_action_test)\n",
    "print(discounted_rewards_test)"
   ]
  },
  {
   "cell_type": "code",
   "execution_count": 38,
   "id": "6607b9b4",
   "metadata": {},
   "outputs": [
    {
     "name": "stdout",
     "output_type": "stream",
     "text": [
      "tf.Tensor(\n",
      "[[  2.3357255  -5.1852026  -5.324566  -12.734421   -4.728531   -8.000314\n",
      "    6.0388336  14.867667 ]\n",
      " [  2.337144   -5.186295   -5.3277707 -12.739598   -4.7311544  -8.004092\n",
      "    6.0392027  14.872946 ]], shape=(2, 8), dtype=float32)\n"
     ]
    }
   ],
   "source": [
    "logits = r1.model(np.array(observations_test))\n",
    "print(logits)"
   ]
  },
  {
   "cell_type": "code",
   "execution_count": 39,
   "id": "d63960cf",
   "metadata": {},
   "outputs": [
    {
     "name": "stdout",
     "output_type": "stream",
     "text": [
      "tf.Tensor(0.00010374766, shape=(), dtype=float32)\n"
     ]
    }
   ],
   "source": [
    "loss = compute_loss(logits,encoded_action_test,discounted_rewards_test)\n",
    "print(loss)"
   ]
  },
  {
   "cell_type": "code",
   "execution_count": 40,
   "id": "4ba75e04",
   "metadata": {},
   "outputs": [],
   "source": [
    "\n",
    "\n",
    "\n",
    "encoded_actions = np.array(action_encoder(r1.choosed_direction))\n",
    "robot_observations = np.array(r1.data_points)\n",
    "discounted_rewards = np.array(r1.data_losses)\n",
    "\n",
    "\n",
    "train_step(r1.model,optimizer,robot_observations,encoded_actions,discounted_rewards)"
   ]
  },
  {
   "cell_type": "code",
   "execution_count": null,
   "id": "edec9bab",
   "metadata": {},
   "outputs": [],
   "source": []
  },
  {
   "cell_type": "code",
   "execution_count": null,
   "id": "f5edee7d",
   "metadata": {},
   "outputs": [],
   "source": []
  },
  {
   "cell_type": "code",
   "execution_count": null,
   "id": "d9ac699e",
   "metadata": {},
   "outputs": [],
   "source": []
  },
  {
   "cell_type": "code",
   "execution_count": null,
   "id": "854d6e0d",
   "metadata": {},
   "outputs": [],
   "source": []
  },
  {
   "cell_type": "markdown",
   "id": "a6569a12",
   "metadata": {},
   "source": [
    "# Train the model"
   ]
  },
  {
   "cell_type": "code",
   "execution_count": 41,
   "id": "301142c3",
   "metadata": {},
   "outputs": [],
   "source": [
    "import matplotlib.pyplot as plt"
   ]
  },
  {
   "cell_type": "code",
   "execution_count": 42,
   "id": "85996f37",
   "metadata": {},
   "outputs": [],
   "source": [
    "# Hyperparameters\n",
    "learning_rate=1e-2\n",
    "MAX_ITERS = 200"
   ]
  },
  {
   "cell_type": "code",
   "execution_count": 43,
   "id": "b13f443d",
   "metadata": {},
   "outputs": [],
   "source": [
    "class PeriodicPlotter:\n",
    "    def __init__(self, sec, xlabel='', ylabel='', scale=None):\n",
    "\n",
    "        self.xlabel = xlabel\n",
    "        self.ylabel = ylabel\n",
    "        self.sec = sec\n",
    "        self.scale = scale\n",
    "\n",
    "        self.tic = time.time()\n",
    "\n",
    "    def plot(self, data):\n",
    "        if time.time() - self.tic > self.sec:\n",
    "            plt.cla()\n",
    "\n",
    "            if self.scale is None:\n",
    "                plt.plot(data)\n",
    "            elif self.scale == 'semilogx':\n",
    "                plt.semilogx(data)\n",
    "            elif self.scale == 'semilogy':\n",
    "                plt.semilogy(data)\n",
    "            elif self.scale == 'loglog':\n",
    "                plt.loglog(data)\n",
    "            else:\n",
    "                raise ValueError(\"unrecognized parameter scale {}\".format(self.scale))\n",
    "\n",
    "            plt.xlabel(self.xlabel); plt.ylabel(self.ylabel)\n",
    "            ipythondisplay.clear_output(wait=True)\n",
    "            ipythondisplay.display(plt.gcf())\n",
    " \n",
    "            self.tic = time.time()"
   ]
  },
  {
   "cell_type": "code",
   "execution_count": 44,
   "id": "5be7839d",
   "metadata": {},
   "outputs": [],
   "source": [
    "class LossHistory:\n",
    "    def __init__(self, smoothing_factor=0.0):\n",
    "        self.alpha = smoothing_factor\n",
    "        self.loss = []\n",
    "    def append(self, value):\n",
    "        self.loss.append( self.alpha*self.loss[-1] + (1-self.alpha)*value if len(self.loss)>0 else value )\n",
    "    def get(self):\n",
    "        return self.loss"
   ]
  },
  {
   "cell_type": "code",
   "execution_count": 45,
   "id": "a791ce7e",
   "metadata": {},
   "outputs": [],
   "source": [
    "import time\n",
    "from IPython import display as ipythondisplay \n",
    "plotter = PeriodicPlotter(sec=5, xlabel='Iterations', ylabel='Rewards')\n",
    "smoothed_reward = LossHistory(smoothing_factor=0.9)"
   ]
  },
  {
   "cell_type": "code",
   "execution_count": 46,
   "id": "04b8609a",
   "metadata": {
    "scrolled": true
   },
   "outputs": [
    {
     "data": {
      "image/png": "[encoded data removed]",
      "text/plain": [
       "<Figure size 432x288 with 1 Axes>"
      ]
     },
     "metadata": {},
     "output_type": "display_data"
    },
    {
     "name": "stdout",
     "output_type": "stream",
     "text": [
      "Epochs : 199 ############## Rewards : 0.28284271247461906\n"
     ]
    },
    {
     "data": {
      "image/png": "[encoded data removed]",
      "text/plain": [
       "<Figure size 432x288 with 1 Axes>"
      ]
     },
     "metadata": {
      "needs_background": "light"
     },
     "output_type": "display_data"
    }
   ],
   "source": [
    "for i_episode in range(MAX_ITERS):\n",
    "    plotter.plot(smoothed_reward.get())\n",
    "    r1.restart_robot()\n",
    "    \n",
    "    \n",
    "    while True:\n",
    "        if r1.process_count >= 200:\n",
    "            break\n",
    "        r1.update()\n",
    "    \n",
    "    \n",
    "\n",
    "\n",
    "    encoded_actions = np.array(action_encoder(r1.choosed_direction))\n",
    "    robot_observations = np.array(r1.data_points)\n",
    "    discounted_rewards = np.array(r1.data_losses)\n",
    "    smoothed_reward.append(np.sum(discounted_rewards))\n",
    "    \n",
    "    \n",
    "    out_str = \"Epochs : \"+str(i_episode)+ \" ############## Rewards : \"+str(np.sum(discounted_rewards))\n",
    "    print(out_str)\n",
    "    \n",
    "    train_step(r1.model,optimizer,robot_observations,encoded_actions,discounted_rewards)\n"
   ]
  },
  {
   "cell_type": "code",
   "execution_count": 47,
   "id": "330b2f2b",
   "metadata": {},
   "outputs": [
    {
     "name": "stdout",
     "output_type": "stream",
     "text": [
      "WARNING:tensorflow:Compiled the loaded model, but the compiled metrics have yet to be built. `model.compile_metrics` will be empty until you train or evaluate the model.\n"
     ]
    }
   ],
   "source": [
    "r1.model.save(\"test_model.h5\")"
   ]
  },
  {
   "cell_type": "code",
   "execution_count": null,
   "id": "784c7a4a",
   "metadata": {},
   "outputs": [],
   "source": []
  }
 ],
 "metadata": {
  "kernelspec": {
   "display_name": "Python 3 (ipykernel)",
   "language": "python",
   "name": "python3"
  },
  "language_info": {
   "codemirror_mode": {
    "name": "ipython",
    "version": 3
   },
   "file_extension": ".py",
   "mimetype": "text/x-python",
   "name": "python",
   "nbconvert_exporter": "python",
   "pygments_lexer": "ipython3",
   "version": "3.8.13"
  }
 },
 "nbformat": 4,
 "nbformat_minor": 5
}
