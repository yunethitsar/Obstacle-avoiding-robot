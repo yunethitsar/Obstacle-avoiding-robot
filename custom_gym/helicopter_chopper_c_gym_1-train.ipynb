{
 "cells": [
  {
   "cell_type": "code",
   "execution_count": 1,
   "id": "865425e2",
   "metadata": {},
   "outputs": [
    {
     "name": "stderr",
     "output_type": "stream",
     "text": [
      "\n"
     ]
    }
   ],
   "source": [
    "import numpy as np \n",
    "import cv2 \n",
    "import matplotlib.pyplot as plt\n",
    "import PIL.Image as Image\n",
    "import gym\n",
    "import random\n",
    "\n",
    "from gym import Env, spaces\n",
    "import time\n",
    "font = cv2.FONT_HERSHEY_COMPLEX_SMALL "
   ]
  },
  {
   "cell_type": "code",
   "execution_count": 2,
   "id": "dd254919",
   "metadata": {},
   "outputs": [],
   "source": [
    "class ChopperScape(Env):\n",
    "    def __init__(self):\n",
    "        super(ChopperScape, self).__init__()\n",
    "        \n",
    "\n",
    "        \n",
    "        # Define a 2-D observation space\n",
    "        self.observation_shape = (600, 800, 3)\n",
    "        self.observation_space = spaces.Box(low = np.zeros(self.observation_shape), \n",
    "                                            high = np.ones(self.observation_shape),\n",
    "                                            dtype = np.float16)\n",
    "    \n",
    "        \n",
    "        # Define an action space ranging from 0 to 4\n",
    "        self.action_space = spaces.Discrete(6,)\n",
    "                        \n",
    "        # Create a canvas to render the environment images upon \n",
    "        self.canvas = np.ones(self.observation_shape) * 1\n",
    "        \n",
    "        # Define elements present inside the environment\n",
    "        self.elements = []\n",
    "        \n",
    "        # Maximum fuel chopper can take at once\n",
    "        self.max_fuel = 500\n",
    "\n",
    "        # Permissible area of helicper to be \n",
    "        self.y_min = int (self.observation_shape[0] * 0.1)\n",
    "        self.x_min = 0\n",
    "        self.y_max = int (self.observation_shape[0] * 0.9)\n",
    "        self.x_max = self.observation_shape[1]\n",
    "        \n",
    "        \n",
    "    def reset(self):\n",
    "        # Reset the fuel consumed\n",
    "        self.fuel_left = self.max_fuel\n",
    "\n",
    "        # Reset the reward\n",
    "        self.ep_return  = 0\n",
    "\n",
    "        # Number of birds\n",
    "        self.bird_count = 0\n",
    "        self.fuel_count = 0\n",
    "\n",
    "        # Determine a place to intialise the chopper in\n",
    "        x = random.randrange(int(self.observation_shape[0] * 0.05), int(self.observation_shape[0] * 0.10))\n",
    "        y = random.randrange(int(self.observation_shape[1] * 0.15), int(self.observation_shape[1] * 0.20))\n",
    "\n",
    "        # Intialise the chopper\n",
    "        self.chopper = Chopper(\"chopper\", self.x_max, self.x_min, self.y_max, self.y_min)\n",
    "        self.chopper.set_position(x,y)\n",
    "\n",
    "        # Intialise the elements \n",
    "        self.elements = [self.chopper]\n",
    "\n",
    "        # Reset the Canvas \n",
    "        self.canvas = np.ones(self.observation_shape) * 1\n",
    "\n",
    "        # Draw elements on the canvas\n",
    "        self.draw_elements_on_canvas()\n",
    "\n",
    "\n",
    "        # return the observation\n",
    "        return self.canvas \n",
    "        \n",
    "        \n",
    "    def draw_elements_on_canvas(self):\n",
    "        # Init the canvas \n",
    "        self.canvas = np.ones(self.observation_shape) * 1\n",
    "\n",
    "        # Draw the heliopter on canvas\n",
    "        for elem in self.elements:\n",
    "            elem_shape = elem.icon.shape\n",
    "            x,y = elem.x, elem.y\n",
    "            self.canvas[y : y + elem_shape[1], x:x + elem_shape[0]] = elem.icon\n",
    "\n",
    "        text = 'Fuel Left: {} | Rewards: {}'.format(self.fuel_left, self.ep_return)\n",
    "\n",
    "        # Put the info on canvas \n",
    "        self.canvas = cv2.putText(self.canvas, text, (10,20), font,  \n",
    "                   0.8, (0,0,0), 1, cv2.LINE_AA)\n",
    "\n",
    "    def get_action_meanings(self):\n",
    "        return {0: \"Right\", 1: \"Left\", 2: \"Down\", 3: \"Up\", 4: \"Do Nothing\"}\n",
    "    \n",
    "    def render(self, mode = \"human\"):\n",
    "        assert mode in [\"human\", \"rgb_array\"], \"Invalid mode, must be either \\\"human\\\" or \\\"rgb_array\\\"\"\n",
    "        if mode == \"human\":\n",
    "            cv2.imshow(\"Ukraine attack on russia\", self.canvas)\n",
    "            cv2.waitKey(10)\n",
    "\n",
    "        elif mode == \"rgb_array\":\n",
    "            return self.canvas\n",
    "    \n",
    "    def close(self):\n",
    "        cv2.destroyAllWindows()\n",
    "    \n",
    "    \n",
    "    \n",
    "    def has_collided(self, elem1, elem2):\n",
    "        x_col = False\n",
    "        y_col = False\n",
    "\n",
    "        elem1_x, elem1_y = elem1.get_position()\n",
    "        elem2_x, elem2_y = elem2.get_position()\n",
    "\n",
    "        if 2 * abs(elem1_x - elem2_x) <= (elem1.icon_w + elem2.icon_w):\n",
    "            x_col = True\n",
    "\n",
    "        if 2 * abs(elem1_y - elem2_y) <= (elem1.icon_h + elem2.icon_h):\n",
    "            y_col = True\n",
    "\n",
    "        if x_col and y_col:\n",
    "            return True\n",
    "\n",
    "        return False\n",
    "    \n",
    "    def step(self, action):\n",
    "        # Flag that marks the termination of an episode\n",
    "        done = False\n",
    "\n",
    "        # Assert that it is a valid action \n",
    "        assert self.action_space.contains(action), \"Invalid Action\"\n",
    "\n",
    "        # Decrease the fuel counter \n",
    "        self.fuel_left -= 1 \n",
    "\n",
    "        # Reward for executing a step.\n",
    "        reward = 1      \n",
    "\n",
    "        # apply the action to the chopper\n",
    "        if action == 0:\n",
    "            self.chopper.move(0,5)\n",
    "        elif action == 1:\n",
    "            self.chopper.move(0,-5)\n",
    "        elif action == 2:\n",
    "            self.chopper.move(5,0)\n",
    "        elif action == 3:\n",
    "            self.chopper.move(-5,0)\n",
    "        elif action == 4:\n",
    "            self.chopper.move(0,0)\n",
    "            \n",
    "        \n",
    "        \n",
    "        # Spawn a bird at the right edge with prob 0.01\n",
    "        if random.random() < 0.01:\n",
    "\n",
    "            # Spawn a bird\n",
    "            spawned_bird = Bird(\"bird_{}\".format(self.bird_count), self.x_max, self.x_min, self.y_max, self.y_min)\n",
    "            self.bird_count += 1\n",
    "\n",
    "            # Compute the x,y co-ordinates of the position from where the bird has to be spawned\n",
    "            # Horizontally, the position is on the right edge and vertically, the height is randomly \n",
    "            # sampled from the set of permissible values\n",
    "            bird_x = self.x_max \n",
    "            bird_y = random.randrange(self.y_min, self.y_max)\n",
    "            spawned_bird.set_position(self.x_max, bird_y)\n",
    "\n",
    "            # Append the spawned bird to the elements currently present in Env. \n",
    "            self.elements.append(spawned_bird)    \n",
    "        \n",
    "        \n",
    "        # Spawn a fuel at the bottom edge with prob 0.01\n",
    "        if random.random() < 0.01:\n",
    "            # Spawn a fuel tank\n",
    "            spawned_fuel = Fuel(\"fuel_{}\".format(self.bird_count), self.x_max, self.x_min, self.y_max, self.y_min)\n",
    "            self.fuel_count += 1\n",
    "\n",
    "            # Compute the x,y co-ordinates of the position from where the fuel tank has to be spawned\n",
    "            # Horizontally, the position is randomly chosen from the list of permissible values and \n",
    "            # vertically, the position is on the bottom edge\n",
    "            fuel_x = random.randrange(self.x_min, self.x_max)\n",
    "            fuel_y = self.y_max\n",
    "            spawned_fuel.set_position(fuel_x, fuel_y)\n",
    "\n",
    "            # Append the spawned fuel tank to the elemetns currently present in the Env.\n",
    "            self.elements.append(spawned_fuel)\n",
    "            \n",
    "        # For elements in the Ev\n",
    "        for elem in self.elements:\n",
    "            if isinstance(elem, Bird):\n",
    "                # If the bird has reached the left edge, remove it from the Env\n",
    "                if elem.get_position()[0] <= self.x_min:\n",
    "                    self.elements.remove(elem)\n",
    "                else:\n",
    "                    # Move the bird left by 5 pts.\n",
    "                    elem.move(-5,0)\n",
    "\n",
    "                # If the bird has collided.\n",
    "                if self.has_collided(self.chopper, elem):\n",
    "                    # Conclude the episode and remove the chopper from the Env.\n",
    "                    done = True\n",
    "                    reward = -10\n",
    "                    self.elements.remove(self.chopper)\n",
    "                    \n",
    "                    \n",
    "            if isinstance(elem, Fuel):\n",
    "                # If the fuel tank has reached the top, remove it from the Env\n",
    "                if elem.get_position()[1] <= self.y_min:\n",
    "                    self.elements.remove(elem)\n",
    "                else:\n",
    "                    # Move the Tank up by 5 pts.\n",
    "                    elem.move(0, -5)\n",
    "                    \n",
    "                # If the fuel tank has collided with the chopper.\n",
    "                if self.has_collided(self.chopper, elem):\n",
    "                    # Remove the fuel tank from the env.\n",
    "                    self.elements.remove(elem)\n",
    "\n",
    "                    # Fill the fuel tank of the chopper to full.\n",
    "                    self.fuel_left = self.max_fuel\n",
    "              \n",
    "        # Increment the episodic return\n",
    "        self.ep_return += 1\n",
    "\n",
    "        # Draw elements on the canvas\n",
    "        self.draw_elements_on_canvas()\n",
    "\n",
    "        # If out of fuel, end the episode.\n",
    "        if self.fuel_left == 0:\n",
    "            done = True\n",
    "\n",
    "        return self.canvas, reward, done, []\n",
    "            "
   ]
  },
  {
   "cell_type": "code",
   "execution_count": 3,
   "id": "c946f596",
   "metadata": {},
   "outputs": [],
   "source": [
    "class Point(object):\n",
    "    def __init__(self, name, x_max, x_min, y_max, y_min):\n",
    "        self.x = 0\n",
    "        self.y = 0\n",
    "        self.x_min = x_min\n",
    "        self.x_max = x_max\n",
    "        self.y_min = y_min\n",
    "        self.y_max = y_max\n",
    "        self.name = name\n",
    "    \n",
    "    def set_position(self, x, y):\n",
    "        self.x = self.clamp(x, self.x_min, self.x_max - self.icon_w)\n",
    "        self.y = self.clamp(y, self.y_min, self.y_max - self.icon_h)\n",
    "    \n",
    "    def get_position(self):\n",
    "        return (self.x, self.y)\n",
    "    \n",
    "    def move(self, del_x, del_y):\n",
    "        self.x += del_x\n",
    "        self.y += del_y\n",
    "        \n",
    "        self.x = self.clamp(self.x, self.x_min, self.x_max - self.icon_w)\n",
    "        self.y = self.clamp(self.y, self.y_min, self.y_max - self.icon_h)\n",
    "\n",
    "    def clamp(self, n, minn, maxn):\n",
    "        return max(min(maxn, n), minn)"
   ]
  },
  {
   "cell_type": "code",
   "execution_count": 4,
   "id": "8e7b167b",
   "metadata": {},
   "outputs": [],
   "source": [
    "class Chopper(Point):\n",
    "    def __init__(self, name, x_max, x_min, y_max, y_min):\n",
    "        super(Chopper, self).__init__(name, x_max, x_min, y_max, y_min)\n",
    "        self.icon = cv2.imread(\"chopper.png\") / 255.0\n",
    "        self.icon_w = 64\n",
    "        self.icon_h = 64\n",
    "        self.icon = cv2.resize(self.icon, (self.icon_h, self.icon_w))\n",
    "\n",
    "        \n",
    "        \n",
    " \n",
    "\n",
    "\n",
    "    "
   ]
  },
  {
   "cell_type": "code",
   "execution_count": 5,
   "id": "e27a2193",
   "metadata": {},
   "outputs": [],
   "source": [
    "\n",
    "class Bird(Point):\n",
    "    def __init__(self, name, x_max, x_min, y_max, y_min):\n",
    "        super(Bird, self).__init__(name, x_max, x_min, y_max, y_min)\n",
    "        self.icon = cv2.imread(\"bird.png\") / 255.0\n",
    "        self.icon_w = 32\n",
    "        self.icon_h = 32\n",
    "        self.icon = cv2.resize(self.icon, (self.icon_h, self.icon_w))"
   ]
  },
  {
   "cell_type": "code",
   "execution_count": 6,
   "id": "84c43f24",
   "metadata": {},
   "outputs": [],
   "source": [
    "    \n",
    "class Fuel(Point):\n",
    "    def __init__(self, name, x_max, x_min, y_max, y_min):\n",
    "        super(Fuel, self).__init__(name, x_max, x_min, y_max, y_min)\n",
    "        self.icon = cv2.imread(\"fuel.png\") / 255.0\n",
    "        self.icon_w = 32\n",
    "        self.icon_h = 32\n",
    "        self.icon = cv2.resize(self.icon, (self.icon_h, self.icon_w))"
   ]
  },
  {
   "cell_type": "code",
   "execution_count": null,
   "id": "ff52fda8",
   "metadata": {},
   "outputs": [],
   "source": []
  },
  {
   "cell_type": "code",
   "execution_count": null,
   "id": "32991018",
   "metadata": {},
   "outputs": [],
   "source": []
  },
  {
   "cell_type": "code",
   "execution_count": null,
   "id": "abaf294d",
   "metadata": {},
   "outputs": [],
   "source": []
  },
  {
   "cell_type": "code",
   "execution_count": 7,
   "id": "9d368d68",
   "metadata": {},
   "outputs": [
    {
     "name": "stderr",
     "output_type": "stream",
     "text": [
      "D:\\Anaconda3\\envs\\tharhtet\\lib\\site-packages\\gym\\spaces\\box.py:78: UserWarning: \u001b[33mWARN: Box bound precision lowered by casting to float16\u001b[0m\n",
      "  logger.warn(f\"Box bound precision lowered by casting to {self.dtype}\")\n"
     ]
    },
    {
     "data": {
      "text/plain": [
       "<matplotlib.image.AxesImage at 0x208e25d70d0>"
      ]
     },
     "execution_count": 7,
     "metadata": {},
     "output_type": "execute_result"
    },
    {
     "data": {
      "image/png": "[encoded data removed]",
      "text/plain": [
       "<Figure size 432x288 with 1 Axes>"
      ]
     },
     "metadata": {
      "needs_background": "light"
     },
     "output_type": "display_data"
    }
   ],
   "source": [
    "env = ChopperScape()\n",
    "obs = env.reset()\n",
    "plt.imshow(obs)"
   ]
  },
  {
   "cell_type": "code",
   "execution_count": null,
   "id": "0859e0dc",
   "metadata": {},
   "outputs": [],
   "source": []
  },
  {
   "cell_type": "code",
   "execution_count": 8,
   "id": "254de88a",
   "metadata": {},
   "outputs": [
    {
     "data": {
      "text/plain": [
       "<matplotlib.image.AxesImage at 0x208e2f48100>"
      ]
     },
     "execution_count": 8,
     "metadata": {},
     "output_type": "execute_result"
    },
    {
     "data": {
      "image/png": "[encoded data removed]",
      "text/plain": [
       "<Figure size 432x288 with 1 Axes>"
      ]
     },
     "metadata": {
      "needs_background": "light"
     },
     "output_type": "display_data"
    }
   ],
   "source": [
    "env = ChopperScape()\n",
    "obs = env.reset()\n",
    "screen = env.render(mode = \"rgb_array\")\n",
    "plt.imshow(screen)"
   ]
  },
  {
   "cell_type": "code",
   "execution_count": null,
   "id": "55f58ad6",
   "metadata": {},
   "outputs": [],
   "source": []
  },
  {
   "cell_type": "code",
   "execution_count": null,
   "id": "b99cdd9f",
   "metadata": {},
   "outputs": [],
   "source": []
  },
  {
   "cell_type": "code",
   "execution_count": 9,
   "id": "0e33817f",
   "metadata": {},
   "outputs": [],
   "source": [
    "from IPython import display\n",
    "\n",
    "env = ChopperScape()\n",
    "obs = env.reset()\n",
    "\n",
    "\n",
    "while True:\n",
    "    # Take a random action\n",
    "    action = env.action_space.sample()\n",
    "    obs, reward, done, info = env.step(action)\n",
    "    \n",
    "    # Render the game\n",
    "    env.render()\n",
    "    \n",
    "    if done == True:\n",
    "        break\n",
    "\n",
    "env.close()"
   ]
  },
  {
   "cell_type": "markdown",
   "id": "65597975",
   "metadata": {},
   "source": [
    "### test sample"
   ]
  },
  {
   "cell_type": "code",
   "execution_count": 10,
   "id": "e40731da",
   "metadata": {},
   "outputs": [],
   "source": [
    "for episode in range(10): \n",
    "    obs = env.reset()\n",
    "    for step in range(50):\n",
    "        action = env.action_space.sample()  # or given a custom model, action = policy(observation)\n",
    "        nobs, reward, done, info = env.step(action)\n"
   ]
  },
  {
   "cell_type": "code",
   "execution_count": 11,
   "id": "8e8a5509",
   "metadata": {},
   "outputs": [],
   "source": [
    "def pre_process(image_frame):\n",
    "    \n",
    "   \n",
    "    I = image_frame[60:] # Crop\n",
    "    \n",
    "    #print(\"Croped Image size : \",I.shape)\n",
    "    I = cv2.resize(I,(256,256))\n",
    "    \n",
    "    I = I[::2, ::2, 0]\n",
    "\n",
    "\n",
    "    \n",
    "    return I.astype(np.float32).reshape(128,128,1)"
   ]
  },
  {
   "cell_type": "code",
   "execution_count": 12,
   "id": "3a9ccdca",
   "metadata": {},
   "outputs": [
    {
     "name": "stdout",
     "output_type": "stream",
     "text": [
      "Action :  4\n",
      "Reward :  1\n",
      "is done :  False\n",
      "info :  []\n",
      "Image size :  (600, 800, 3)\n"
     ]
    },
    {
     "data": {
      "text/plain": [
       "<matplotlib.image.AxesImage at 0x208e2858790>"
      ]
     },
     "execution_count": 12,
     "metadata": {},
     "output_type": "execute_result"
    },
    {
     "data": {
      "image/png": "[encoded data removed]",
      "text/plain": [
       "<Figure size 432x288 with 1 Axes>"
      ]
     },
     "metadata": {
      "needs_background": "light"
     },
     "output_type": "display_data"
    }
   ],
   "source": [
    "action = env.action_space.sample()\n",
    "obs, reward, done, info = env.step(action)\n",
    "print(\"Action : \",action)\n",
    "print(\"Reward : \",reward)\n",
    "print(\"is done : \",done)\n",
    "print(\"info : \",info)\n",
    "print(\"Image size : \",obs.shape)\n",
    "plt.imshow(obs)"
   ]
  },
  {
   "cell_type": "code",
   "execution_count": 13,
   "id": "90a479ca",
   "metadata": {
    "scrolled": true
   },
   "outputs": [
    {
     "name": "stdout",
     "output_type": "stream",
     "text": [
      "Pre process image :  (128, 128, 1)\n"
     ]
    },
    {
     "data": {
      "text/plain": [
       "<matplotlib.image.AxesImage at 0x208e28bd130>"
      ]
     },
     "execution_count": 13,
     "metadata": {},
     "output_type": "execute_result"
    },
    {
     "data": {
      "image/png": "[encoded data removed]",
      "text/plain": [
       "<Figure size 432x288 with 1 Axes>"
      ]
     },
     "metadata": {
      "needs_background": "light"
     },
     "output_type": "display_data"
    }
   ],
   "source": [
    "test_img = obs\n",
    "pre_process_img = pre_process(test_img)\n",
    "print(\"Pre process image : \",pre_process_img.shape)\n",
    "plt.imshow(pre_process_img)"
   ]
  },
  {
   "cell_type": "markdown",
   "id": "5a98dfd6",
   "metadata": {},
   "source": [
    "### Create model"
   ]
  },
  {
   "cell_type": "code",
   "execution_count": 14,
   "id": "e88f25c5",
   "metadata": {},
   "outputs": [],
   "source": [
    "IMG_SIZE = 128\n",
    "n_actions = 5\n",
    "MAX_ITERS= 100\n",
    "learning_rate=1e-3"
   ]
  },
  {
   "cell_type": "code",
   "execution_count": 15,
   "id": "a69b17c1",
   "metadata": {},
   "outputs": [],
   "source": [
    "import tensorflow as tf"
   ]
  },
  {
   "cell_type": "code",
   "execution_count": 16,
   "id": "4cc67a85",
   "metadata": {},
   "outputs": [],
   "source": [
    "def create_model():\n",
    "    model = tf.keras.models.Sequential([\n",
    "        tf.keras.layers.Input(shape = (IMG_SIZE,IMG_SIZE,1)),\n",
    "    tf.keras.layers.Conv2D(16,kernel_size=(7,7),strides = 4,activation = 'relu', padding = 'same'),\n",
    "    tf.keras.layers.Conv2D(16,kernel_size=(7,7),strides = 4,activation = 'relu', padding = 'same'),\n",
    "    tf.keras.layers.Conv2D(32,kernel_size=(5,5),strides = 2,activation = 'relu', padding = 'same'),\n",
    "    tf.keras.layers.Conv2D(32,kernel_size=(3,3),strides = 2,activation = 'relu', padding = 'same'),\n",
    "    tf.keras.layers.Conv2D(64,kernel_size=(3,3),strides = 2,activation = 'relu', padding = 'same'),\n",
    "    \n",
    "    tf.keras.layers.Flatten(),\n",
    "    tf.keras.layers.Dense(units= 512, activation = tf.nn.relu),\n",
    "    tf.keras.layers.Dense(units= 256, activation = tf.nn.relu),\n",
    "    tf.keras.layers.Dense(units= 128, activation = tf.nn.relu),\n",
    "    tf.keras.layers.Dense(units= n_actions,activation=None)\n",
    "        \n",
    "    ])\n",
    "    \n",
    "    return model"
   ]
  },
  {
   "cell_type": "code",
   "execution_count": null,
   "id": "ad7c795e",
   "metadata": {},
   "outputs": [],
   "source": []
  },
  {
   "cell_type": "code",
   "execution_count": 37,
   "id": "67e18099",
   "metadata": {},
   "outputs": [
    {
     "name": "stdout",
     "output_type": "stream",
     "text": [
      "Model: \"sequential_1\"\n",
      "_________________________________________________________________\n",
      " Layer (type)                Output Shape              Param #   \n",
      "=================================================================\n",
      " conv2d_5 (Conv2D)           (None, 32, 32, 16)        800       \n",
      "                                                                 \n",
      " conv2d_6 (Conv2D)           (None, 8, 8, 16)          12560     \n",
      "                                                                 \n",
      " conv2d_7 (Conv2D)           (None, 4, 4, 32)          12832     \n",
      "                                                                 \n",
      " conv2d_8 (Conv2D)           (None, 2, 2, 32)          9248      \n",
      "                                                                 \n",
      " conv2d_9 (Conv2D)           (None, 1, 1, 64)          18496     \n",
      "                                                                 \n",
      " flatten_1 (Flatten)         (None, 64)                0         \n",
      "                                                                 \n",
      " dense_4 (Dense)             (None, 512)               33280     \n",
      "                                                                 \n",
      " dense_5 (Dense)             (None, 256)               131328    \n",
      "                                                                 \n",
      " dense_6 (Dense)             (None, 128)               32896     \n",
      "                                                                 \n",
      " dense_7 (Dense)             (None, 5)                 645       \n",
      "                                                                 \n",
      "=================================================================\n",
      "Total params: 252,085\n",
      "Trainable params: 252,085\n",
      "Non-trainable params: 0\n",
      "_________________________________________________________________\n"
     ]
    }
   ],
   "source": [
    "model = create_model()\n",
    "optimizer = tf.keras.optimizers.Adam(learning_rate)\n",
    "model.summary()\n",
    "\n"
   ]
  },
  {
   "cell_type": "code",
   "execution_count": null,
   "id": "1580306e",
   "metadata": {},
   "outputs": [],
   "source": []
  },
  {
   "cell_type": "code",
   "execution_count": null,
   "id": "376cf85d",
   "metadata": {},
   "outputs": [],
   "source": []
  },
  {
   "cell_type": "markdown",
   "id": "96d7325f",
   "metadata": {},
   "source": [
    "###  RL logics"
   ]
  },
  {
   "cell_type": "code",
   "execution_count": 38,
   "id": "89080c23",
   "metadata": {},
   "outputs": [],
   "source": [
    "def normalize(x):\n",
    "    x = x - np.mean(x)\n",
    "    x =  x / np.std(x)\n",
    "    \n",
    "    return x.astype(np.float32) "
   ]
  },
  {
   "cell_type": "code",
   "execution_count": 117,
   "id": "877fb6fd",
   "metadata": {},
   "outputs": [],
   "source": [
    "def isNan(val):\n",
    "     return val != val"
   ]
  },
  {
   "cell_type": "code",
   "execution_count": null,
   "id": "a3540699",
   "metadata": {},
   "outputs": [],
   "source": []
  },
  {
   "cell_type": "code",
   "execution_count": 39,
   "id": "f4c66070",
   "metadata": {},
   "outputs": [],
   "source": [
    "def discount_rewards(rewards, gamma = 0.99):\n",
    "    discounted_rewards = np.zeros_like(rewards)\n",
    "    \n",
    "    R =  0 \n",
    "    for t in reversed(range (0,len(rewards))):\n",
    "        \n",
    "        if rewards[t] != 0 :\n",
    "            R = 0\n",
    "        R = R * gamma + rewards[t]\n",
    "        \n",
    "        \n",
    "        discounted_rewards[t] = R\n",
    "        \n",
    "    return normalize(discounted_rewards)\n"
   ]
  },
  {
   "cell_type": "code",
   "execution_count": 40,
   "id": "289cb1c8",
   "metadata": {},
   "outputs": [],
   "source": [
    "class Memory:\n",
    "    def __init__(self):\n",
    "        self.clear()\n",
    "        \n",
    "    \n",
    "    def clear(self):\n",
    "        self.observations = []\n",
    "        self.actions = []\n",
    "        self.rewards = []\n",
    "        \n",
    "    def add_to_memory(self,new_observation,new_action,new_reward):\n",
    "        self.observations.append(new_observation)\n",
    "        \n",
    "        self.actions.append(new_action)\n",
    "        \n",
    "        self.rewards.append(new_reward)"
   ]
  },
  {
   "cell_type": "code",
   "execution_count": 129,
   "id": "4f5c3aee",
   "metadata": {},
   "outputs": [],
   "source": [
    "def choose_action(model,observation):\n",
    "    \n",
    "    observation = np.expand_dims(observation,axis = 0)\n",
    "    \n",
    "    logits = model.predict(observation)\n",
    "    \n",
    "    prob_weights = tf.nn.softmax(logits).numpy()\n",
    "    \n",
    "    isContainNan =  [ isNan(x) for x in prob_weights.flatten()]\n",
    "    \n",
    "    if True in   isContainNan:\n",
    "        return np.random.choice(n_actions,size = 1)[0]\n",
    "    \n",
    "    action = np.random.choice(n_actions,size = 1, p = prob_weights.flatten())[0]\n",
    "    \n",
    "    return action"
   ]
  },
  {
   "cell_type": "code",
   "execution_count": 130,
   "id": "aec9c1e4",
   "metadata": {},
   "outputs": [],
   "source": [
    "### Loss function ###\n",
    "def compute_loss(logits,actions,rewards):\n",
    "    neg_logprob = tf.nn.sparse_softmax_cross_entropy_with_logits(logits = logits,labels = actions)\n",
    "\n",
    "    loss = tf.reduce_mean(neg_logprob * rewards)\n",
    "\n",
    "    return loss\n"
   ]
  },
  {
   "cell_type": "markdown",
   "id": "9b8425b5",
   "metadata": {},
   "source": [
    "#### logging"
   ]
  },
  {
   "cell_type": "code",
   "execution_count": 131,
   "id": "ffe6f09e",
   "metadata": {},
   "outputs": [],
   "source": [
    "import IPython\n",
    "import time\n",
    "from IPython import display as ipythondisplay"
   ]
  },
  {
   "cell_type": "code",
   "execution_count": 132,
   "id": "cd5428c9",
   "metadata": {},
   "outputs": [],
   "source": [
    "class LossHistory:\n",
    "    def __init__(self, smoothing_factor=0.0):\n",
    "        self.alpha = smoothing_factor\n",
    "        self.loss = []\n",
    "    def append(self, value):\n",
    "        self.loss.append( self.alpha*self.loss[-1] + (1-self.alpha)*value if len(self.loss)>0 else value )\n",
    "    def get(self):\n",
    "        return self.loss"
   ]
  },
  {
   "cell_type": "code",
   "execution_count": 133,
   "id": "512cd299",
   "metadata": {},
   "outputs": [],
   "source": [
    "class PeriodicPlotter:\n",
    "    def __init__(self, sec, xlabel='', ylabel='', scale=None):\n",
    "\n",
    "        self.xlabel = xlabel\n",
    "        self.ylabel = ylabel\n",
    "        self.sec = sec\n",
    "        self.scale = scale\n",
    "\n",
    "        self.tic = time.time()\n",
    "\n",
    "    def plot(self, data):\n",
    "        if time.time() - self.tic > self.sec:\n",
    "            plt.cla()\n",
    "\n",
    "            if self.scale is None:\n",
    "                plt.plot(data)\n",
    "            elif self.scale == 'semilogx':\n",
    "                plt.semilogx(data)\n",
    "            elif self.scale == 'semilogy':\n",
    "                plt.semilogy(data)\n",
    "            elif self.scale == 'loglog':\n",
    "                plt.loglog(data)\n",
    "            else:\n",
    "                raise ValueError(\"unrecognized parameter scale {}\".format(self.scale))\n",
    "\n",
    "            plt.xlabel(self.xlabel); plt.ylabel(self.ylabel)\n",
    "            ipythondisplay.clear_output(wait=True)\n",
    "            ipythondisplay.display(plt.gcf())\n",
    " \n",
    "            self.tic = time.time()"
   ]
  },
  {
   "cell_type": "code",
   "execution_count": 134,
   "id": "ae57ccc8",
   "metadata": {},
   "outputs": [],
   "source": [
    "# plotting\n",
    "smoothed_reward = LossHistory(smoothing_factor=0.9)\n",
    "plotter = PeriodicPlotter(sec=5, xlabel='Iterations', ylabel='Rewards')\n",
    "memory = Memory()"
   ]
  },
  {
   "cell_type": "code",
   "execution_count": 135,
   "id": "3dcc5bb5",
   "metadata": {},
   "outputs": [],
   "source": [
    "### Training step (forward and backpropagation) ###\n",
    "def train_step(model,optimizer,observations,actions,discounted_rewards):\n",
    "    with tf.GradientTape() as tape:\n",
    "        logits = model(observations)\n",
    "        \n",
    "        loss = compute_loss(logits,actions,discounted_rewards)\n",
    "        \n",
    "    grads = tape.gradient(loss,model.trainable_variables)\n",
    "    optimizer.apply_gradients(zip(grads,model.trainable_variables))"
   ]
  },
  {
   "cell_type": "code",
   "execution_count": null,
   "id": "821b7427",
   "metadata": {},
   "outputs": [
    {
     "data": {
      "image/png": "[encoded data removed]",
      "text/plain": [
       "<Figure size 432x288 with 1 Axes>"
      ]
     },
     "metadata": {},
     "output_type": "display_data"
    }
   ],
   "source": [
    "for i_episode in range(MAX_ITERS):\n",
    "    plotter.plot(smoothed_reward.get())\n",
    "    \n",
    "    # Restart the environment\n",
    "    observation = env.reset()\n",
    "    previous_frame = pre_process(observation)\n",
    "    \n",
    "    while True :\n",
    "        current_frame =  pre_process(observation)\n",
    "        \n",
    "        obs_change = current_frame - previous_frame\n",
    "        \n",
    "        action = choose_action(model,obs_change)\n",
    "        env.render()\n",
    "        next_observation, reward, done, info = env.step(action)\n",
    "        \n",
    "        memory.add_to_memory(obs_change,action,reward)\n",
    "        \n",
    "        if done :\n",
    "            \n",
    "            total_reward = sum(memory.rewards)\n",
    "            smoothed_reward.append(total_reward)\n",
    "            \n",
    "            train_step(model,\n",
    "                      optimizer,\n",
    "                      observations = np.stack(memory.observations,0),\n",
    "                      actions = np.array(memory.actions),\n",
    "                      discounted_rewards = discount_rewards(memory.rewards))\n",
    "            memory.clear()\n",
    "            break\n",
    "        \n",
    "        observation = next_observation\n",
    "        previous_frame = current_frame"
   ]
  },
  {
   "cell_type": "code",
   "execution_count": 137,
   "id": "1b18584c",
   "metadata": {},
   "outputs": [
    {
     "data": {
      "text/plain": [
       "array([4])"
      ]
     },
     "execution_count": 137,
     "metadata": {},
     "output_type": "execute_result"
    }
   ],
   "source": [
    " np.random.choice(n_actions,size = 1)"
   ]
  },
  {
   "cell_type": "code",
   "execution_count": null,
   "id": "837d5c8c",
   "metadata": {},
   "outputs": [],
   "source": []
  },
  {
   "cell_type": "code",
   "execution_count": null,
   "id": "c1e312f3",
   "metadata": {},
   "outputs": [],
   "source": []
  },
  {
   "cell_type": "code",
   "execution_count": null,
   "id": "09ae4a4d",
   "metadata": {},
   "outputs": [],
   "source": []
  }
 ],
 "metadata": {
  "kernelspec": {
   "display_name": "Python 3 (ipykernel)",
   "language": "python",
   "name": "python3"
  },
  "language_info": {
   "codemirror_mode": {
    "name": "ipython",
    "version": 3
   },
   "file_extension": ".py",
   "mimetype": "text/x-python",
   "name": "python",
   "nbconvert_exporter": "python",
   "pygments_lexer": "ipython3",
   "version": "3.9.7"
  }
 },
 "nbformat": 4,
 "nbformat_minor": 5
}
